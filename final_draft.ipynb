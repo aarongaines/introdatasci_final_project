{
 "cells": [
  {
   "cell_type": "markdown",
   "metadata": {},
   "source": [
    "# Final Project Title"
   ]
  },
  {
   "cell_type": "markdown",
   "metadata": {},
   "source": [
    "# Introduction"
   ]
  },
  {
   "cell_type": "markdown",
   "metadata": {},
   "source": [
    "Proposal:\n",
    "\n",
    "Lorem ipsum dolor sit amet, consectetur adipiscing elit. Maecenas vel mi dui. Aliquam erat volutpat. Ut imperdiet sapien eget molestie pellentesque. Nulla ullamcorper iaculis nulla, vel maximus dolor interdum sit amet. Maecenas malesuada fermentum neque, ut rhoncus diam rhoncus ac. Etiam erat nisi, blandit porttitor consequat a, tincidunt eu ligula. Cras ante felis, tincidunt a pulvinar et, pretium non felis. Sed in ligula feugiat, consequat tellus non, sodales nisi. Phasellus ex urna, faucibus non mattis vitae, sagittis sollicitudin magna. Etiam ut mauris diam. Nam laoreet ante leo, sit amet dapibus sapien tincidunt ac.\n",
    "\n",
    "Data:\n",
    "\n",
    "[LA County Boundary](https://egis-lacounty.hub.arcgis.com/datasets/county-boundaries/explore?location=34.439893%2C-118.182786%2C8.50)"
   ]
  },
  {
   "cell_type": "markdown",
   "metadata": {},
   "source": [
    "# Methods"
   ]
  },
  {
   "cell_type": "markdown",
   "metadata": {},
   "source": [
    "## Preprocessing"
   ]
  },
  {
   "cell_type": "markdown",
   "metadata": {},
   "source": [
    "### Import Packages"
   ]
  },
  {
   "cell_type": "code",
   "execution_count": 1,
   "metadata": {},
   "outputs": [],
   "source": [
    "import pandas as pd\n",
    "import numpy as np\n",
    "from datetime import date\n",
    "import scipy.stats as stats"
   ]
  },
  {
   "cell_type": "markdown",
   "metadata": {},
   "source": [
    "### Create Functions"
   ]
  },
  {
   "cell_type": "code",
   "execution_count": 2,
   "metadata": {},
   "outputs": [],
   "source": [
    "# Create well ID (WID) column.\n",
    "def create_WID(df, col_name):\n",
    "    \n",
    "    df['WID'] = df['GLOBAL_ID'] + '-' + df[col_name]\n",
    "    return df\n",
    "\n",
    "\n",
    "# Create date column for weather data.\n",
    "def get_date(row):\n",
    "\n",
    "    string = str(row['DATE'])\n",
    "\n",
    "    year = string[:4]\n",
    "    month = string[4:6]\n",
    "    day = string[6:]\n",
    "\n",
    "    date = year + '-' + month + '-' + day\n",
    "\n",
    "    return date"
   ]
  },
  {
   "cell_type": "markdown",
   "metadata": {},
   "source": [
    "## Exploratory Data Analysis"
   ]
  },
  {
   "cell_type": "markdown",
   "metadata": {},
   "source": [
    "### Import Packages and Processed Data "
   ]
  },
  {
   "cell_type": "code",
   "execution_count": null,
   "metadata": {},
   "outputs": [],
   "source": [
    "import pandas as pd\n",
    "import numpy as np\n",
    "import matplotlib.pyplot as plt\n",
    "import geopandas as gpd\n",
    "import seaborn as sns"
   ]
  },
  {
   "cell_type": "code",
   "execution_count": null,
   "metadata": {},
   "outputs": [],
   "source": [
    "data = pd.read_csv(r'data\\full.csv')\n",
    "data.loc[:,'GW_MEAS_DATE'] = pd.to_datetime(data['GW_MEAS_DATE'])"
   ]
  },
  {
   "cell_type": "code",
   "execution_count": null,
   "metadata": {},
   "outputs": [],
   "source": [
    "# Trim data by date to reduce size.\n",
    "data = data[data['GW_MEAS_DATE'] > '2010-01-01'].reset_index(drop=True)\n",
    "\n",
    "# Date to numeric for modeling.\n",
    "data['GW_MEAS_DATE'] = pd.to_numeric(data['GW_MEAS_DATE'])"
   ]
  },
  {
   "cell_type": "code",
   "execution_count": null,
   "metadata": {},
   "outputs": [],
   "source": [
    "bounds = gpd.read_file(r'data\\County_Boundaries\\County_Boundaries.shp')"
   ]
  },
  {
   "cell_type": "code",
   "execution_count": null,
   "metadata": {},
   "outputs": [],
   "source": [
    "bounds[bounds['TYPE'] == 'LA County']"
   ]
  },
  {
   "cell_type": "markdown",
   "metadata": {},
   "source": [
    "### Data Visualization"
   ]
  },
  {
   "cell_type": "code",
   "execution_count": null,
   "metadata": {},
   "outputs": [],
   "source": [
    "by_date = data.groupby(['GW_MEAS_DATE']).mean().reset_index()\n",
    "plt.figure(figsize=(12,8), dpi=80)\n",
    "plt.plot(by_date['GW_MEAS_DATE'], by_date['DEPTH'])\n",
    "plt.gca().invert_yaxis()\n",
    "plt.xlabel('Year')\n",
    "plt.ylabel('Depth')\n",
    "plt.title('Depth by Date')\n",
    "plt.show()"
   ]
  },
  {
   "cell_type": "code",
   "execution_count": null,
   "metadata": {},
   "outputs": [],
   "source": [
    "wells = data.groupby('WID').mean().reset_index()\n",
    "\n",
    "plt.figure(figsize=(12,12), dpi=100)\n",
    "plt.scatter(wells['LONGITUDE'], wells['LATITUDE'], c=wells['DEPTH'], cmap='viridis', marker='o', s=1)\n",
    "plt.grid()\n",
    "\n",
    "\n",
    "plt.show()"
   ]
  },
  {
   "cell_type": "code",
   "execution_count": null,
   "metadata": {},
   "outputs": [],
   "source": [
    "ces"
   ]
  },
  {
   "cell_type": "code",
   "execution_count": null,
   "metadata": {},
   "outputs": [],
   "source": [
    "plt.scatter(wells['LONGITUDE'], wells['LATITUDE'])\n",
    "ces.plot()\n",
    "plt.show()\n"
   ]
  },
  {
   "cell_type": "code",
   "execution_count": null,
   "metadata": {},
   "outputs": [],
   "source": [
    "import geopandas as gpd\n",
    "\n",
    "ces = gpd.read_file(r'data\\calenviroscreen40shpf2021shp\\CES4 Final Shapefile.shp')"
   ]
  },
  {
   "cell_type": "code",
   "execution_count": null,
   "metadata": {},
   "outputs": [],
   "source": [
    "la = ces[ces['County'] == 'Los Angeles'].reset_index()"
   ]
  },
  {
   "cell_type": "code",
   "execution_count": null,
   "metadata": {},
   "outputs": [],
   "source": [
    "union = la.unary_union"
   ]
  },
  {
   "cell_type": "code",
   "execution_count": null,
   "metadata": {},
   "outputs": [],
   "source": [
    "type(union)"
   ]
  },
  {
   "cell_type": "code",
   "execution_count": null,
   "metadata": {},
   "outputs": [],
   "source": [
    "plt.figure(figsize=(10,10))\n",
    "plt.plot(la[0].exterior.xy[0], la[0].exterior.xy[1], color='black')"
   ]
  },
  {
   "cell_type": "markdown",
   "metadata": {},
   "source": [
    "## Modeling"
   ]
  },
  {
   "cell_type": "markdown",
   "metadata": {},
   "source": [
    "### Random Forest"
   ]
  },
  {
   "cell_type": "markdown",
   "metadata": {},
   "source": [
    "#### Packages"
   ]
  },
  {
   "cell_type": "code",
   "execution_count": 8,
   "metadata": {},
   "outputs": [],
   "source": [
    "import pandas as pd\n",
    "import numpy as np\n",
    "from sklearn.ensemble import RandomForestRegressor\n",
    "import sklearn.metrics as metrics\n",
    "import sklearn.model_selection as ms"
   ]
  },
  {
   "cell_type": "markdown",
   "metadata": {},
   "source": [
    "#### Functions"
   ]
  },
  {
   "cell_type": "code",
   "execution_count": 18,
   "metadata": {},
   "outputs": [],
   "source": [
    "def rfr_optimize(x,y,hyper_grid):\n",
    "    '''\n",
    "    This function is used to optimize the hyperparameters of the Random Forest Regressor.\n",
    "    Input:\n",
    "        x: independent variables\n",
    "        y: dependent variable\n",
    "        hyper_grid: a dictionary of hyperparameters and ranges to test for optimization\n",
    "    '''\n",
    "\n",
    "    # Split data into training and testing sets.\n",
    "    x_train, x_test, y_train, y_test = ms.train_test_split(x, y, test_size=0.2)\n",
    "\n",
    "    # Create the model\n",
    "    rfr = RandomForestRegressor(\n",
    "        n_jobs=-1,\n",
    "        verbose=1\n",
    "        )\n",
    "\n",
    "    # Create the grid search object\n",
    "    grid = ms.GridSearchCV(\n",
    "        rfr,\n",
    "        hyper_grid,\n",
    "        cv=5,\n",
    "        scoring='neg_mean_squared_error',\n",
    "        n_jobs=-1,\n",
    "        verbose=2,\n",
    "        )\n",
    "\n",
    "    # Perform grid search for optimal hyperparameter fit.\n",
    "    grid.fit(x_train, y_train)\n",
    "    \n",
    "    return grid"
   ]
  },
  {
   "cell_type": "code",
   "execution_count": 19,
   "metadata": {},
   "outputs": [],
   "source": [
    "def test_model(x,y,grid):\n",
    "\n",
    "    x_train, x_test, y_train, y_test = ms.train_test_split(x, y, test_size=0.2)\n",
    "\n",
    "    rfr = RandomForestRegressor(n_jobs=-1, **grid.best_params_)\n",
    "\n",
    "    rfr.fit(x_train, y_train)\n",
    "\n",
    "    y_pred = rfr.predict(x_test)\n",
    "\n",
    "    print('Random Forest Regressor: ')\n",
    "    print(grid.best_params_, '\\n')\n",
    "\n",
    "    evs = metrics.explained_variance_score(y_test, y_pred)\n",
    "    print(f'Explained Variance: {evs}')\n",
    "\n",
    "    mse = metrics.mean_squared_error(y_test, y_pred)\n",
    "    rmse = np.sqrt(mse)\n",
    "    print(f'Root Mean Squared Error: {rmse}')\n",
    "    "
   ]
  },
  {
   "cell_type": "markdown",
   "metadata": {},
   "source": [
    "#### Load Data"
   ]
  },
  {
   "cell_type": "code",
   "execution_count": 4,
   "metadata": {},
   "outputs": [],
   "source": [
    "data = pd.read_csv(r'data\\full.csv')\n",
    "\n",
    "# Trim data by date to reduce size.\n",
    "data = data[data['GW_MEAS_DATE'] > '2010-01-01'].reset_index(drop=True)\n",
    "\n",
    "# Keep only water elevation data greater than 0.\n",
    "data = data[data['WATER_ELEVATION'] >= 0].reset_index(drop=True)\n",
    "\n",
    "# Date to numeric for modeling.\n",
    "data['GW_MEAS_DATE'] = pd.to_numeric(pd.to_datetime(data['GW_MEAS_DATE']))\n",
    "\n",
    "# Define x and y columns.\n",
    "x_cols = ['GW_MEAS_DATE','LATITUDE','LONGITUDE', 'PRCP', 'TMAX', 'TMIN', 'ELEVATION']\n",
    "y_cols = ['DEPTH', 'WATER_ELEVATION']\n"
   ]
  },
  {
   "cell_type": "markdown",
   "metadata": {},
   "source": [
    "### Water Elevation"
   ]
  },
  {
   "cell_type": "code",
   "execution_count": 5,
   "metadata": {},
   "outputs": [],
   "source": [
    "# Split dataframe into x and y.\n",
    "x = data[x_cols]\n",
    "y = data[y_cols[1]]"
   ]
  },
  {
   "cell_type": "markdown",
   "metadata": {},
   "source": [
    "#### Single Hyperarameter Optimization"
   ]
  },
  {
   "cell_type": "markdown",
   "metadata": {},
   "source": [
    "##### bootstrap"
   ]
  },
  {
   "cell_type": "code",
   "execution_count": null,
   "metadata": {},
   "outputs": [],
   "source": [
    "bootstrap = ['True', 'False']\n",
    "\n",
    "hyper_grid = {\n",
    "    'bootstrap': bootstrap,\n",
    "    }\n",
    "\n",
    "grid = rfr_optimize(x,y,hyper_grid)"
   ]
  },
  {
   "cell_type": "code",
   "execution_count": null,
   "metadata": {},
   "outputs": [],
   "source": [
    "test_model(x,y,grid)"
   ]
  },
  {
   "cell_type": "markdown",
   "metadata": {},
   "source": [
    "##### max_depth"
   ]
  },
  {
   "cell_type": "code",
   "execution_count": 17,
   "metadata": {},
   "outputs": [
    {
     "name": "stdout",
     "output_type": "stream",
     "text": [
      "Fitting 5 folds for each of 9 candidates, totalling 45 fits\n"
     ]
    },
    {
     "name": "stderr",
     "output_type": "stream",
     "text": [
      "[Parallel(n_jobs=-1)]: Using backend ThreadingBackend with 12 concurrent workers.\n",
      "[Parallel(n_jobs=-1)]: Done  26 tasks      | elapsed:    3.1s\n",
      "[Parallel(n_jobs=-1)]: Done 100 out of 100 | elapsed:    9.8s finished\n"
     ]
    }
   ],
   "source": [
    "max_depth = list(range(20, 110, 10))\n",
    "\n",
    "hyper_grid = {\n",
    "'max_depth': max_depth,\n",
    "}\n",
    "\n",
    "grid = rfr_optimize(x,y,hyper_grid)"
   ]
  },
  {
   "cell_type": "code",
   "execution_count": 20,
   "metadata": {},
   "outputs": [
    {
     "name": "stdout",
     "output_type": "stream",
     "text": [
      "Random Forest Regressor: \n",
      "{'max_depth': 100} \n",
      "\n",
      "Explained Variance: 0.9999169531468335\n",
      "Root Mean Squared Error: 2.6547345150880086\n"
     ]
    }
   ],
   "source": [
    "test_model(x,y,grid)"
   ]
  },
  {
   "cell_type": "markdown",
   "metadata": {},
   "source": [
    "##### n_estimators"
   ]
  },
  {
   "cell_type": "code",
   "execution_count": 6,
   "metadata": {},
   "outputs": [
    {
     "name": "stdout",
     "output_type": "stream",
     "text": [
      "Fitting 5 folds for each of 7 candidates, totalling 35 fits\n"
     ]
    },
    {
     "name": "stderr",
     "output_type": "stream",
     "text": [
      "[Parallel(n_jobs=-1)]: Using backend ThreadingBackend with 12 concurrent workers.\n",
      "[Parallel(n_jobs=-1)]: Done  26 tasks      | elapsed:    2.8s\n",
      "[Parallel(n_jobs=-1)]: Done  90 out of  90 | elapsed:    7.9s finished\n"
     ]
    }
   ],
   "source": [
    "n_estimators = list(range(40, 110, 10))\n",
    "\n",
    "hyper_grid = {\n",
    "    'n_estimators': n_estimators,\n",
    "    }\n",
    "\n",
    "grid = rfr_optimize(x,y,hyper_grid)"
   ]
  },
  {
   "cell_type": "code",
   "execution_count": 9,
   "metadata": {},
   "outputs": [
    {
     "name": "stdout",
     "output_type": "stream",
     "text": [
      "Random Forest Regressor: \n",
      "{'n_estimators': 90} \n",
      "\n",
      "Explained Variance: 0.9999005453108044\n",
      "Root Mean Squared Error: 2.8959455058197596\n"
     ]
    }
   ],
   "source": [
    "test_model(grid)"
   ]
  },
  {
   "cell_type": "markdown",
   "metadata": {},
   "source": [
    "### Multiple Hyperparameter Optimization"
   ]
  },
  {
   "cell_type": "code",
   "execution_count": null,
   "metadata": {},
   "outputs": [],
   "source": [
    "n_estimators = list(range(94, 96, 1))\n",
    "max_depth = list(range(56,58,1))\n",
    "\n",
    "hyper_grid = {\n",
    "    'n_estimators': n_estimators,\n",
    "    'max_depth': max_depth,\n",
    "    }\n",
    "\n",
    "grid = rfr_optimize(x,y,hyper_grid)"
   ]
  },
  {
   "cell_type": "markdown",
   "metadata": {},
   "source": [
    "## Depth"
   ]
  },
  {
   "cell_type": "code",
   "execution_count": 9,
   "metadata": {},
   "outputs": [],
   "source": [
    "# Split dataframe into x and y.\n",
    "x = data[x_cols]\n",
    "y = data[y_cols[0]]"
   ]
  },
  {
   "cell_type": "code",
   "execution_count": 12,
   "metadata": {},
   "outputs": [
    {
     "name": "stdout",
     "output_type": "stream",
     "text": [
      "Fitting 5 folds for each of 5 candidates, totalling 25 fits\n"
     ]
    },
    {
     "name": "stderr",
     "output_type": "stream",
     "text": [
      "[Parallel(n_jobs=-1)]: Using backend ThreadingBackend with 12 concurrent workers.\n",
      "[Parallel(n_jobs=-1)]: Done  26 tasks      | elapsed:    3.4s\n"
     ]
    },
    {
     "name": "stdout",
     "output_type": "stream",
     "text": [
      "{'max_depth': 60}\n"
     ]
    },
    {
     "name": "stderr",
     "output_type": "stream",
     "text": [
      "[Parallel(n_jobs=-1)]: Done 100 out of 100 | elapsed:   10.5s finished\n"
     ]
    }
   ],
   "source": [
    "max_depth = [None]\n",
    "\n",
    "for n in range(50, 100, 10):\n",
    "    max_depth.append(n)\n",
    "\n",
    "max_depth = list(range(50, 100, 10))\n",
    "\n",
    "hyper_grid = {\n",
    "'max_depth': max_depth,\n",
    "}\n",
    "\n",
    "grid = rfr_optimize(x,y,hyper_grid)"
   ]
  },
  {
   "cell_type": "code",
   "execution_count": 13,
   "metadata": {},
   "outputs": [
    {
     "name": "stdout",
     "output_type": "stream",
     "text": [
      "Random Forest Regressor: \n",
      "{'max_depth': 60} \n",
      "\n",
      "Explained Variance: 0.9982556555694703\n",
      "Root Mean Squared Error: 2.1915102656718815\n"
     ]
    }
   ],
   "source": [
    "test_model(grid)"
   ]
  }
 ],
 "metadata": {
  "kernelspec": {
   "display_name": "Python 3.9.13 ('geoprj')",
   "language": "python",
   "name": "python3"
  },
  "language_info": {
   "codemirror_mode": {
    "name": "ipython",
    "version": 3
   },
   "file_extension": ".py",
   "mimetype": "text/x-python",
   "name": "python",
   "nbconvert_exporter": "python",
   "pygments_lexer": "ipython3",
   "version": "3.9.13"
  },
  "orig_nbformat": 4,
  "vscode": {
   "interpreter": {
    "hash": "23234625f55973f7a58126a35d86facfdbb1213f4cf262be4a4984331c60271a"
   }
  }
 },
 "nbformat": 4,
 "nbformat_minor": 2
}
