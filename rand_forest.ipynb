{
 "cells": [
  {
   "cell_type": "code",
   "execution_count": null,
   "metadata": {},
   "outputs": [],
   "source": [
    "import pandas as pd\n",
    "import numpy as np\n",
    "import matplotlib.pyplot as plt\n",
    "import seaborn as sns\n",
    "\n",
    "from sklearn.ensemble import RandomForestRegressor\n",
    "import sklearn.metrics as metrics\n",
    "import sklearn.model_selection as ms"
   ]
  },
  {
   "cell_type": "code",
   "execution_count": null,
   "metadata": {},
   "outputs": [],
   "source": [
    "from itertools import combinations\n",
    "\n",
    "\n",
    "combos = combinations([[0,1,2],[3,4,5]], 2)"
   ]
  },
  {
   "cell_type": "code",
   "execution_count": null,
   "metadata": {},
   "outputs": [],
   "source": [
    "# import itertools package\n",
    "import itertools\n",
    "from itertools import permutations\n",
    " \n",
    "# initialize lists\n",
    "n_estimators = list(range(85, 95, 1))\n",
    "max_depth = list(range(55, 65, 1))\n",
    " \n",
    "# create empty list to store the\n",
    "# combinations\n",
    "unique_combinations = []\n",
    " \n",
    "# Getting all permutations of n_estimators\n",
    "# with length of max_depth\n",
    "permut = itertools.permutations(n_estimators, len(max_depth))\n",
    " \n",
    "# zip() is called to pair each permutation\n",
    "# and shorter list element into combination\n",
    "for comb in permut:\n",
    "    zipped = zip(comb, max_depth)\n",
    "    unique_combinations.append(list(zipped))\n",
    " \n",
    "# printing unique_combination list\n",
    "print(len(unique_combinations))"
   ]
  },
  {
   "cell_type": "code",
   "execution_count": null,
   "metadata": {},
   "outputs": [],
   "source": [
    "unique_combinations"
   ]
  },
  {
   "cell_type": "code",
   "execution_count": null,
   "metadata": {},
   "outputs": [],
   "source": [
    "data = pd.read_csv('data/full.csv')"
   ]
  },
  {
   "cell_type": "code",
   "execution_count": null,
   "metadata": {},
   "outputs": [],
   "source": [
    "data['GW_MEAS_DATE'] = pd.to_numeric(pd.to_datetime(data['GW_MEAS_DATE']))"
   ]
  },
  {
   "cell_type": "code",
   "execution_count": null,
   "metadata": {},
   "outputs": [],
   "source": [
    "x_cols = ['GW_MEAS_DATE', 'PRCP', 'TMAX', 'TMIN', 'ELEVATION']\n",
    "y_cols = ['DEPTH', 'WATER_ELEVATION']\n",
    "\n",
    "d_x_train, d_x_test, d_y_train, d_y_test = ms.train_test_split(data[x_cols], data[y_cols[0]], test_size=0.2)\n",
    "we_x_train, we_x_test, we_y_train, we_y_test = ms.train_test_split(data[x_cols], data[y_cols[1]], test_size=0.2)"
   ]
  },
  {
   "cell_type": "code",
   "execution_count": null,
   "metadata": {},
   "outputs": [],
   "source": [
    "from math import ceil\n",
    "min_samples = ceil(len(d_x_train)*.05)"
   ]
  },
  {
   "cell_type": "code",
   "execution_count": null,
   "metadata": {},
   "outputs": [],
   "source": [
    "min_samples"
   ]
  },
  {
   "cell_type": "code",
   "execution_count": null,
   "metadata": {},
   "outputs": [],
   "source": [
    "d_model = RandomForestRegressor(\n",
    "    n_estimators=100,\n",
    "    #min_samples_split=min_samples,\n",
    "    criterion ='squared_error',\n",
    "    random_state=0,\n",
    "    n_jobs=11,\n",
    "    verbose=1\n",
    "    )\n",
    "\n",
    "d_model = d_model.fit(d_x_train, d_y_train)"
   ]
  },
  {
   "cell_type": "code",
   "execution_count": null,
   "metadata": {},
   "outputs": [],
   "source": [
    "d_predictions = d_model.predict(d_x_test)"
   ]
  },
  {
   "cell_type": "code",
   "execution_count": null,
   "metadata": {},
   "outputs": [],
   "source": [
    "r2 = metrics.r2_score(d_y_test, d_predictions)\n",
    "adj_r2 = 1 - (1 - r2) * (len(d_y_test) - 1) / (len(d_y_test) - len(d_x_test.columns))\n",
    "mae = metrics.mean_absolute_error(d_y_test, d_predictions)\n",
    "mse = metrics.mean_squared_error(d_y_test, d_predictions)\n",
    "rmse = np.sqrt(mse)\n",
    "\n",
    "print('Depth Metrics: (squared error)')\n",
    "print('R2:', r2)\n",
    "print('Adjusted R2:', adj_r2)\n",
    "print('MAE:', mae)\n",
    "print('MSE:', mse)\n",
    "print('RMSE:', rmse)"
   ]
  },
  {
   "cell_type": "code",
   "execution_count": null,
   "metadata": {},
   "outputs": [],
   "source": [
    "d_model = RandomForestRegressor(\n",
    "    n_estimators=100,\n",
    "    min_samples_split=min_samples,\n",
    "    criterion ='absolute_error',\n",
    "    random_state=0,\n",
    "    n_jobs=11,\n",
    "    verbose=2\n",
    "    )\n",
    "\n",
    "d_model = d_model.fit(d_x_train, d_y_train)"
   ]
  },
  {
   "cell_type": "code",
   "execution_count": null,
   "metadata": {},
   "outputs": [],
   "source": [
    "d_predictions = d_model.predict(d_x_test)"
   ]
  },
  {
   "cell_type": "code",
   "execution_count": null,
   "metadata": {},
   "outputs": [],
   "source": [
    "r2 = metrics.r2_score(d_y_test, d_predictions)\n",
    "adj_r2 = 1 - (1 - r2) * (len(d_y_test) - 1) / (len(d_y_test) - len(d_x_test.columns))\n",
    "mae = metrics.mean_absolute_error(d_y_test, d_predictions)\n",
    "mse = metrics.mean_squared_error(d_y_test, d_predictions)\n",
    "rmse = np.sqrt(mse)\n",
    "\n",
    "print('Depth Metrics: (absolute error)')\n",
    "print('R2:', r2)\n",
    "print('Adjusted R2:', adj_r2)\n",
    "print('MAE:', mae)\n",
    "print('MSE:', mse)\n",
    "print('RMSE:', rmse)"
   ]
  },
  {
   "cell_type": "code",
   "execution_count": null,
   "metadata": {},
   "outputs": [],
   "source": [
    "we_model = RandomForestRegressor(\n",
    "    n_estimators=100,\n",
    "    criterion ='squared_error',\n",
    "    n_jobs=11,\n",
    "    verbose=2\n",
    "    )\n",
    "\n",
    "we_model = we_model.fit(we_x_train, we_y_train)"
   ]
  },
  {
   "cell_type": "code",
   "execution_count": null,
   "metadata": {},
   "outputs": [],
   "source": [
    "we_predictions = we_model.predict(we_x_test)"
   ]
  },
  {
   "cell_type": "code",
   "execution_count": null,
   "metadata": {},
   "outputs": [],
   "source": [
    "r2 = metrics.r2_score(we_y_test, we_predictions)\n",
    "adj_r2 = 1 - (1 - r2) * (len(we_y_test) - 1) / (len(we_y_test) - len(we_x_test.columns))\n",
    "mae = metrics.mean_absolute_error(we_y_test, we_predictions)\n",
    "mse = metrics.mean_squared_error(we_y_test, we_predictions)\n",
    "rmse = np.sqrt(mse)\n",
    "\n",
    "print('Water Elevation Metrics:')\n",
    "print('R2:', r2)\n",
    "print('Adjusted R2:', adj_r2)\n",
    "print('MAE:', mae)\n",
    "print('MSE:', mse)\n",
    "print('RMSE:', rmse)"
   ]
  },
  {
   "cell_type": "markdown",
   "metadata": {},
   "source": [
    "### Optimize Hyperparameters"
   ]
  },
  {
   "cell_type": "code",
   "execution_count": null,
   "metadata": {},
   "outputs": [],
   "source": [
    "from sklearn.ensemble import RandomForestRegressor\n",
    "rf = RandomForestRegressor(random_state = 42)\n",
    "from pprint import pprint\n",
    "# Look at parameters used by our current forest\n",
    "print('Parameters currently in use:\\n')\n",
    "base_params = rf.get_params()\n",
    "pprint(base_params)"
   ]
  },
  {
   "cell_type": "code",
   "execution_count": null,
   "metadata": {},
   "outputs": [],
   "source": [
    "from sklearn.model_selection import RandomizedSearchCV\n",
    "\n",
    "# Number of trees in random forest\n",
    "n_estimators = [int(x) for x in np.linspace(start = 200, stop = 2000, num = 10)]\n",
    "\n",
    "# Number of features to consider at every split\n",
    "max_features = ['auto', 'sqrt']\n",
    "\n",
    "# Maximum number of levels in tree\n",
    "max_depth = [int(x) for x in np.linspace(10, 110, num = 11)]\n",
    "max_depth.append(None)\n",
    "\n",
    "# Minimum number of samples required to split a node\n",
    "min_samples_split = [2, 5, 10]\n",
    "\n",
    "# Minimum number of samples required at each leaf node\n",
    "min_samples_leaf = [1, 2, 4]\n",
    "\n",
    "# Method of selecting samples for training each tree\n",
    "bootstrap = [True, False]\n",
    "\n",
    "# Create the random grid\n",
    "random_grid = {'n_estimators': n_estimators,\n",
    "               'max_features': max_features,\n",
    "               'max_depth': max_depth,\n",
    "               'min_samples_split': min_samples_split,\n",
    "               'min_samples_leaf': min_samples_leaf,\n",
    "               'bootstrap': bootstrap}\n",
    "pprint(random_grid)"
   ]
  },
  {
   "cell_type": "code",
   "execution_count": null,
   "metadata": {},
   "outputs": [],
   "source": [
    "# Use the random grid to search for best hyperparameters\n",
    "# First create the base model to tune\n",
    "rf = RandomForestRegressor()\n",
    "\n",
    "# Random search of parameters, using 3 fold cross validation, \n",
    "# search across 100 different combinations, and use all available cores\n",
    "rf_random = RandomizedSearchCV(estimator = rf, param_distributions = random_grid, n_iter = 100, cv = 3, verbose=2, random_state=42, n_jobs = -1)\n",
    "\n",
    "# Fit the random search model\n",
    "rf_random.fit(we_x_train, we_y_train)"
   ]
  },
  {
   "cell_type": "code",
   "execution_count": null,
   "metadata": {},
   "outputs": [],
   "source": [
    "rf_random.best_params_"
   ]
  },
  {
   "cell_type": "code",
   "execution_count": null,
   "metadata": {},
   "outputs": [],
   "source": [
    "def evaluate(model, test_features, test_labels):\n",
    "    predictions = model.predict(test_features)\n",
    "    errors = abs(predictions - test_labels)\n",
    "    mape = 100 * np.mean(errors / test_labels)\n",
    "    accuracy = 100 - mape\n",
    "    print('Model Performance')\n",
    "    print('Average Error: {:0.4f} degrees.'.format(np.mean(errors)))\n",
    "    print('Accuracy = {:0.2f}%.'.format(accuracy))\n",
    "    \n",
    "    return accuracy\n",
    "base_model = RandomForestRegressor(random_state = 42)\n",
    "base_model.fit(we_x_train, we_y_train)\n",
    "base_accuracy = evaluate(base_model, we_x_test, we_y_test)\n",
    "\n",
    "\n",
    "best_random = rf_random.best_estimator_\n",
    "random_accuracy = evaluate(best_random, we_x_test, we_y_test)\n",
    "print('Improvement of {:0.2f}%.'.format( 100 * (random_accuracy - base_accuracy) / base_accuracy))"
   ]
  }
 ],
 "metadata": {
  "kernelspec": {
   "display_name": "Python 3.9.13 ('geoprj')",
   "language": "python",
   "name": "python3"
  },
  "language_info": {
   "codemirror_mode": {
    "name": "ipython",
    "version": 3
   },
   "file_extension": ".py",
   "mimetype": "text/x-python",
   "name": "python",
   "nbconvert_exporter": "python",
   "pygments_lexer": "ipython3",
   "version": "3.9.13"
  },
  "orig_nbformat": 4,
  "vscode": {
   "interpreter": {
    "hash": "23234625f55973f7a58126a35d86facfdbb1213f4cf262be4a4984331c60271a"
   }
  }
 },
 "nbformat": 4,
 "nbformat_minor": 2
}
