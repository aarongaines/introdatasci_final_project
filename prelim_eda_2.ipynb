{
 "cells": [
  {
   "cell_type": "markdown",
   "metadata": {},
   "source": [
    "# Preliminary Exploratory Data Analysis 2: Weather Data"
   ]
  },
  {
   "cell_type": "code",
   "execution_count": 144,
   "metadata": {},
   "outputs": [],
   "source": [
    "import pandas as pd\n",
    "import numpy as np\n",
    "import matplotlib.pyplot as plt"
   ]
  },
  {
   "cell_type": "markdown",
   "metadata": {},
   "source": [
    "## Preprocessing"
   ]
  },
  {
   "cell_type": "markdown",
   "metadata": {},
   "source": [
    "### Load Data"
   ]
  },
  {
   "cell_type": "code",
   "execution_count": 145,
   "metadata": {},
   "outputs": [],
   "source": [
    "stations = pd.read_csv('data/ghcnd-stations.csv')"
   ]
  },
  {
   "cell_type": "code",
   "execution_count": 146,
   "metadata": {},
   "outputs": [
    {
     "data": {
      "text/html": [
       "<div>\n",
       "<style scoped>\n",
       "    .dataframe tbody tr th:only-of-type {\n",
       "        vertical-align: middle;\n",
       "    }\n",
       "\n",
       "    .dataframe tbody tr th {\n",
       "        vertical-align: top;\n",
       "    }\n",
       "\n",
       "    .dataframe thead th {\n",
       "        text-align: right;\n",
       "    }\n",
       "</style>\n",
       "<table border=\"1\" class=\"dataframe\">\n",
       "  <thead>\n",
       "    <tr style=\"text-align: right;\">\n",
       "      <th></th>\n",
       "      <th>ID</th>\n",
       "      <th>LATITUDE</th>\n",
       "      <th>LONGITUDE</th>\n",
       "      <th>VAL1</th>\n",
       "      <th>LOC_ID</th>\n",
       "      <th>NAME</th>\n",
       "      <th>TYPE</th>\n",
       "      <th>VAL2</th>\n",
       "    </tr>\n",
       "  </thead>\n",
       "  <tbody>\n",
       "    <tr>\n",
       "      <th>56601</th>\n",
       "      <td>US1CALA0030</td>\n",
       "      <td>34.1712</td>\n",
       "      <td>-118.4353</td>\n",
       "      <td>205.7</td>\n",
       "      <td>CA</td>\n",
       "      <td>LOS ANGELES 4.3 NNW</td>\n",
       "      <td>NaN</td>\n",
       "      <td>NaN</td>\n",
       "    </tr>\n",
       "    <tr>\n",
       "      <th>56621</th>\n",
       "      <td>US1CALA0064</td>\n",
       "      <td>34.0809</td>\n",
       "      <td>-118.2729</td>\n",
       "      <td>123.4</td>\n",
       "      <td>CA</td>\n",
       "      <td>LOS ANGELES 2.6 NW</td>\n",
       "      <td>NaN</td>\n",
       "      <td>NaN</td>\n",
       "    </tr>\n",
       "    <tr>\n",
       "      <th>96356</th>\n",
       "      <td>USC00045111</td>\n",
       "      <td>34.0500</td>\n",
       "      <td>-118.2500</td>\n",
       "      <td>125.0</td>\n",
       "      <td>CA</td>\n",
       "      <td>LOS ANGELES 6TH MAIN</td>\n",
       "      <td>NaN</td>\n",
       "      <td>NaN</td>\n",
       "    </tr>\n",
       "    <tr>\n",
       "      <th>96357</th>\n",
       "      <td>USC00045112</td>\n",
       "      <td>34.0667</td>\n",
       "      <td>-118.2333</td>\n",
       "      <td>85.0</td>\n",
       "      <td>CA</td>\n",
       "      <td>LOS ANGELES TERMINAL A</td>\n",
       "      <td>NaN</td>\n",
       "      <td>NaN</td>\n",
       "    </tr>\n",
       "    <tr>\n",
       "      <th>120337</th>\n",
       "      <td>USW00023174</td>\n",
       "      <td>33.9381</td>\n",
       "      <td>-118.3889</td>\n",
       "      <td>29.6</td>\n",
       "      <td>CA</td>\n",
       "      <td>LOS ANGELES INTL AP</td>\n",
       "      <td>NaN</td>\n",
       "      <td>72295.0</td>\n",
       "    </tr>\n",
       "    <tr>\n",
       "      <th>120927</th>\n",
       "      <td>USW00093134</td>\n",
       "      <td>34.0511</td>\n",
       "      <td>-118.2353</td>\n",
       "      <td>70.1</td>\n",
       "      <td>CA</td>\n",
       "      <td>LOS ANGELES DWTN USC CAMPUS</td>\n",
       "      <td>NaN</td>\n",
       "      <td>NaN</td>\n",
       "    </tr>\n",
       "  </tbody>\n",
       "</table>\n",
       "</div>"
      ],
      "text/plain": [
       "                 ID  LATITUDE  LONGITUDE   VAL1 LOC_ID  \\\n",
       "56601   US1CALA0030   34.1712  -118.4353  205.7     CA   \n",
       "56621   US1CALA0064   34.0809  -118.2729  123.4     CA   \n",
       "96356   USC00045111   34.0500  -118.2500  125.0     CA   \n",
       "96357   USC00045112   34.0667  -118.2333   85.0     CA   \n",
       "120337  USW00023174   33.9381  -118.3889   29.6     CA   \n",
       "120927  USW00093134   34.0511  -118.2353   70.1     CA   \n",
       "\n",
       "                               NAME TYPE     VAL2  \n",
       "56601           LOS ANGELES 4.3 NNW  NaN      NaN  \n",
       "56621            LOS ANGELES 2.6 NW  NaN      NaN  \n",
       "96356          LOS ANGELES 6TH MAIN  NaN      NaN  \n",
       "96357        LOS ANGELES TERMINAL A  NaN      NaN  \n",
       "120337          LOS ANGELES INTL AP  NaN  72295.0  \n",
       "120927  LOS ANGELES DWTN USC CAMPUS  NaN      NaN  "
      ]
     },
     "execution_count": 146,
     "metadata": {},
     "output_type": "execute_result"
    }
   ],
   "source": [
    "stations[(stations['LOC_ID'] == 'CA') & (stations['NAME'].str.match('LOS ANGELES'))]"
   ]
  },
  {
   "cell_type": "markdown",
   "metadata": {},
   "source": [
    "Best Single Weather Station ID:\n",
    "\n",
    "|ID\t|LATITUDE\t|LONGITUDE\t|VAL1\t|LOC_ID\t|NAME\t|TYPE\t|VAL2\n",
    "|----\t|--------\t|--------\t|----\t|-------\t|------\t|------\t|----\n",
    "|USW00093134\t|34.0511\t|-118.2353\t|70.1\t|CA\t|LOS ANGELES DWTN USC CAMPUS      |    |\t\t\n"
   ]
  },
  {
   "cell_type": "code",
   "execution_count": 147,
   "metadata": {},
   "outputs": [],
   "source": [
    "weather = pd.read_csv('data/USW00093134.csv', engine='python')"
   ]
  },
  {
   "cell_type": "code",
   "execution_count": 148,
   "metadata": {},
   "outputs": [],
   "source": [
    "def get_date(row):\n",
    "    string = str(row['DATE'])\n",
    "    year = string[:4]\n",
    "    month = string[4:6]\n",
    "    day = string[6:]\n",
    "    date = year + '-' + month + '-' + day\n",
    "    return date\n",
    "\n",
    "weather['S_DATE'] = weather.apply(get_date, axis=1)\n",
    "weather['DATE'] = pd.to_datetime(weather['S_DATE'])\n",
    "weather =  weather[['DATE', 'ELEMENT', 'DATA_VALUE']]"
   ]
  },
  {
   "cell_type": "code",
   "execution_count": 149,
   "metadata": {},
   "outputs": [
    {
     "data": {
      "text/plain": [
       "array(['TMAX', 'TMIN', 'PRCP', 'WT16', 'WT14', 'SNOW', 'SNWD', 'WT05',\n",
       "       'WT08', 'WT18', 'WT01', 'WT07', 'WT03', 'TOBS', 'WSFG', 'WT04',\n",
       "       'PGTM', 'WDFG', 'ACSH', 'PSUN', 'TSUN', 'WDFM', 'WSFM', 'WESD',\n",
       "       'TAVG', 'AWND', 'FMTM', 'WDF2', 'WDF5', 'WSF2', 'WSF5', 'WT13',\n",
       "       'WT02', 'WT19', 'ADPT', 'ASLP', 'ASTP', 'AWBT', 'RHAV', 'RHMN',\n",
       "       'RHMX', 'WT09'], dtype=object)"
      ]
     },
     "execution_count": 149,
     "metadata": {},
     "output_type": "execute_result"
    }
   ],
   "source": [
    "weather['ELEMENT'].unique()"
   ]
  },
  {
   "cell_type": "code",
   "execution_count": 150,
   "metadata": {},
   "outputs": [],
   "source": [
    "mask = (weather['ELEMENT'] == 'TMAX') | (weather['ELEMENT'] == 'TMIN') | (weather['ELEMENT'] == 'PRCP')\n",
    "pivot = weather[mask].pivot_table(index='DATE', columns='ELEMENT', values='DATA_VALUE')\n",
    "pivot.dropna(inplace=True)\n",
    "pivot.reset_index(inplace=True)"
   ]
  },
  {
   "cell_type": "code",
   "execution_count": 151,
   "metadata": {},
   "outputs": [
    {
     "name": "stdout",
     "output_type": "stream",
     "text": [
      "ELEMENT       DATE   PRCP   TMAX   TMIN\n",
      "0       1906-04-04   76.0  178.0  111.0\n",
      "1       1906-04-05  152.0  189.0  100.0\n",
      "2       1906-04-23   13.0  189.0  128.0\n",
      "3       1906-04-27   64.0  161.0  100.0\n",
      "4       1906-05-25  114.0  161.0  128.0\n"
     ]
    }
   ],
   "source": [
    "print(pivot.head())"
   ]
  },
  {
   "cell_type": "code",
   "execution_count": 152,
   "metadata": {},
   "outputs": [],
   "source": [
    "pivot.to_csv('data/la_weather.csv', index=False)"
   ]
  },
  {
   "cell_type": "code",
   "execution_count": 153,
   "metadata": {},
   "outputs": [],
   "source": [
    "weather = pd.read_csv('data/la_weather.csv')"
   ]
  },
  {
   "cell_type": "code",
   "execution_count": 154,
   "metadata": {},
   "outputs": [
    {
     "data": {
      "text/html": [
       "<div>\n",
       "<style scoped>\n",
       "    .dataframe tbody tr th:only-of-type {\n",
       "        vertical-align: middle;\n",
       "    }\n",
       "\n",
       "    .dataframe tbody tr th {\n",
       "        vertical-align: top;\n",
       "    }\n",
       "\n",
       "    .dataframe thead th {\n",
       "        text-align: right;\n",
       "    }\n",
       "</style>\n",
       "<table border=\"1\" class=\"dataframe\">\n",
       "  <thead>\n",
       "    <tr style=\"text-align: right;\">\n",
       "      <th></th>\n",
       "      <th>DATE</th>\n",
       "      <th>PRCP</th>\n",
       "      <th>TMAX</th>\n",
       "      <th>TMIN</th>\n",
       "    </tr>\n",
       "  </thead>\n",
       "  <tbody>\n",
       "    <tr>\n",
       "      <th>0</th>\n",
       "      <td>1906-04-04</td>\n",
       "      <td>76.0</td>\n",
       "      <td>178.0</td>\n",
       "      <td>111.0</td>\n",
       "    </tr>\n",
       "    <tr>\n",
       "      <th>1</th>\n",
       "      <td>1906-04-05</td>\n",
       "      <td>152.0</td>\n",
       "      <td>189.0</td>\n",
       "      <td>100.0</td>\n",
       "    </tr>\n",
       "    <tr>\n",
       "      <th>2</th>\n",
       "      <td>1906-04-23</td>\n",
       "      <td>13.0</td>\n",
       "      <td>189.0</td>\n",
       "      <td>128.0</td>\n",
       "    </tr>\n",
       "    <tr>\n",
       "      <th>3</th>\n",
       "      <td>1906-04-27</td>\n",
       "      <td>64.0</td>\n",
       "      <td>161.0</td>\n",
       "      <td>100.0</td>\n",
       "    </tr>\n",
       "    <tr>\n",
       "      <th>4</th>\n",
       "      <td>1906-05-25</td>\n",
       "      <td>114.0</td>\n",
       "      <td>161.0</td>\n",
       "      <td>128.0</td>\n",
       "    </tr>\n",
       "    <tr>\n",
       "      <th>...</th>\n",
       "      <td>...</td>\n",
       "      <td>...</td>\n",
       "      <td>...</td>\n",
       "      <td>...</td>\n",
       "    </tr>\n",
       "    <tr>\n",
       "      <th>38999</th>\n",
       "      <td>2022-08-08</td>\n",
       "      <td>0.0</td>\n",
       "      <td>317.0</td>\n",
       "      <td>194.0</td>\n",
       "    </tr>\n",
       "    <tr>\n",
       "      <th>39000</th>\n",
       "      <td>2022-08-09</td>\n",
       "      <td>0.0</td>\n",
       "      <td>333.0</td>\n",
       "      <td>217.0</td>\n",
       "    </tr>\n",
       "    <tr>\n",
       "      <th>39001</th>\n",
       "      <td>2022-08-10</td>\n",
       "      <td>0.0</td>\n",
       "      <td>333.0</td>\n",
       "      <td>206.0</td>\n",
       "    </tr>\n",
       "    <tr>\n",
       "      <th>39002</th>\n",
       "      <td>2022-08-11</td>\n",
       "      <td>0.0</td>\n",
       "      <td>311.0</td>\n",
       "      <td>194.0</td>\n",
       "    </tr>\n",
       "    <tr>\n",
       "      <th>39003</th>\n",
       "      <td>2022-08-12</td>\n",
       "      <td>0.0</td>\n",
       "      <td>306.0</td>\n",
       "      <td>183.0</td>\n",
       "    </tr>\n",
       "  </tbody>\n",
       "</table>\n",
       "<p>39004 rows × 4 columns</p>\n",
       "</div>"
      ],
      "text/plain": [
       "             DATE   PRCP   TMAX   TMIN\n",
       "0      1906-04-04   76.0  178.0  111.0\n",
       "1      1906-04-05  152.0  189.0  100.0\n",
       "2      1906-04-23   13.0  189.0  128.0\n",
       "3      1906-04-27   64.0  161.0  100.0\n",
       "4      1906-05-25  114.0  161.0  128.0\n",
       "...           ...    ...    ...    ...\n",
       "38999  2022-08-08    0.0  317.0  194.0\n",
       "39000  2022-08-09    0.0  333.0  217.0\n",
       "39001  2022-08-10    0.0  333.0  206.0\n",
       "39002  2022-08-11    0.0  311.0  194.0\n",
       "39003  2022-08-12    0.0  306.0  183.0\n",
       "\n",
       "[39004 rows x 4 columns]"
      ]
     },
     "execution_count": 154,
     "metadata": {},
     "output_type": "execute_result"
    }
   ],
   "source": [
    "weather"
   ]
  },
  {
   "cell_type": "code",
   "execution_count": 157,
   "metadata": {},
   "outputs": [],
   "source": [
    "mask = weather['DATE'] >= '2000-01-01'"
   ]
  },
  {
   "cell_type": "code",
   "execution_count": 159,
   "metadata": {},
   "outputs": [],
   "source": [
    "weather = weather[mask]"
   ]
  },
  {
   "cell_type": "code",
   "execution_count": null,
   "metadata": {},
   "outputs": [],
   "source": [
    "plt.figure(figsize=(12,8))\n",
    "for col in ['TMAX', 'TMIN', 'PRCP']:\n",
    "    plt.plot(weather['DATE'], weather[col], label=col)\n",
    "    plt.title('Weather in Los Angeles: {}'.format(col))\n",
    "    plt.legend()\n",
    "    plt.show()"
   ]
  },
  {
   "cell_type": "code",
   "execution_count": null,
   "metadata": {},
   "outputs": [],
   "source": []
  }
 ],
 "metadata": {
  "kernelspec": {
   "display_name": "Python 3.9.13 ('geoprj')",
   "language": "python",
   "name": "python3"
  },
  "language_info": {
   "codemirror_mode": {
    "name": "ipython",
    "version": 3
   },
   "file_extension": ".py",
   "mimetype": "text/x-python",
   "name": "python",
   "nbconvert_exporter": "python",
   "pygments_lexer": "ipython3",
   "version": "3.9.13"
  },
  "orig_nbformat": 4,
  "vscode": {
   "interpreter": {
    "hash": "23234625f55973f7a58126a35d86facfdbb1213f4cf262be4a4984331c60271a"
   }
  }
 },
 "nbformat": 4,
 "nbformat_minor": 2
}
