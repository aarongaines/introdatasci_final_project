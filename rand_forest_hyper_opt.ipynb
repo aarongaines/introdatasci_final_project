{
 "cells": [
  {
   "cell_type": "markdown",
   "metadata": {},
   "source": [
    "# Random Forest Hyperparameter Optimization"
   ]
  },
  {
   "cell_type": "code",
   "execution_count": 34,
   "metadata": {},
   "outputs": [],
   "source": [
    "import pandas as pd\n",
    "import numpy as np\n",
    "import matplotlib.pyplot as plt\n",
    "import seaborn as sns\n",
    "\n",
    "from sklearn.ensemble import RandomForestRegressor\n",
    "import sklearn.metrics as metrics\n",
    "import sklearn.model_selection as ms\n",
    "\n",
    "data = pd.read_csv(r'E:\\personal\\ucla_ext\\Intro to Data Science\\introdatasci_final_project\\data\\full.csv')\n",
    "data = data[data['WATER_ELEVATION'] >= 0].reset_index(drop=True)\n",
    "data['GW_MEAS_DATE'] = pd.to_numeric(pd.to_datetime(data['GW_MEAS_DATE']))\n",
    "\n",
    "x_cols = ['GW_MEAS_DATE','LATITUDE','LONGITUDE', 'PRCP', 'TMAX', 'TMIN', 'ELEVATION']\n",
    "y_cols = ['DEPTH', 'WATER_ELEVATION']\n",
    "\n",
    "x = data[x_cols]\n",
    "y = data[y_cols[1]]"
   ]
  },
  {
   "cell_type": "code",
   "execution_count": 35,
   "metadata": {},
   "outputs": [
    {
     "data": {
      "text/html": [
       "<div>\n",
       "<style scoped>\n",
       "    .dataframe tbody tr th:only-of-type {\n",
       "        vertical-align: middle;\n",
       "    }\n",
       "\n",
       "    .dataframe tbody tr th {\n",
       "        vertical-align: top;\n",
       "    }\n",
       "\n",
       "    .dataframe thead th {\n",
       "        text-align: right;\n",
       "    }\n",
       "</style>\n",
       "<table border=\"1\" class=\"dataframe\">\n",
       "  <thead>\n",
       "    <tr style=\"text-align: right;\">\n",
       "      <th></th>\n",
       "      <th>WID</th>\n",
       "      <th>GW_MEAS_DATE</th>\n",
       "      <th>LATITUDE</th>\n",
       "      <th>LONGITUDE</th>\n",
       "      <th>DEPTH</th>\n",
       "      <th>ELEVATION</th>\n",
       "      <th>WATER_ELEVATION</th>\n",
       "      <th>PRCP</th>\n",
       "      <th>TMAX</th>\n",
       "      <th>TMIN</th>\n",
       "    </tr>\n",
       "  </thead>\n",
       "  <tbody>\n",
       "    <tr>\n",
       "      <th>0</th>\n",
       "      <td>SLT4307472-4A</td>\n",
       "      <td>948931200000000000</td>\n",
       "      <td>34.021058</td>\n",
       "      <td>-118.451652</td>\n",
       "      <td>157.45</td>\n",
       "      <td>165.66</td>\n",
       "      <td>8.21</td>\n",
       "      <td>0.0</td>\n",
       "      <td>200.0</td>\n",
       "      <td>83.0</td>\n",
       "    </tr>\n",
       "    <tr>\n",
       "      <th>1</th>\n",
       "      <td>SLT4307472-115A</td>\n",
       "      <td>948931200000000000</td>\n",
       "      <td>34.018806</td>\n",
       "      <td>-118.455532</td>\n",
       "      <td>142.46</td>\n",
       "      <td>151.94</td>\n",
       "      <td>9.48</td>\n",
       "      <td>0.0</td>\n",
       "      <td>200.0</td>\n",
       "      <td>83.0</td>\n",
       "    </tr>\n",
       "    <tr>\n",
       "      <th>2</th>\n",
       "      <td>SL603792561-MW-14</td>\n",
       "      <td>948931200000000000</td>\n",
       "      <td>33.891020</td>\n",
       "      <td>-118.024076</td>\n",
       "      <td>60.85</td>\n",
       "      <td>76.25</td>\n",
       "      <td>15.40</td>\n",
       "      <td>0.0</td>\n",
       "      <td>200.0</td>\n",
       "      <td>83.0</td>\n",
       "    </tr>\n",
       "    <tr>\n",
       "      <th>3</th>\n",
       "      <td>SLT4307472-57A</td>\n",
       "      <td>948931200000000000</td>\n",
       "      <td>34.019668</td>\n",
       "      <td>-118.454001</td>\n",
       "      <td>149.01</td>\n",
       "      <td>158.18</td>\n",
       "      <td>9.17</td>\n",
       "      <td>0.0</td>\n",
       "      <td>200.0</td>\n",
       "      <td>83.0</td>\n",
       "    </tr>\n",
       "    <tr>\n",
       "      <th>4</th>\n",
       "      <td>SL603792561-MW-01</td>\n",
       "      <td>948931200000000000</td>\n",
       "      <td>33.890665</td>\n",
       "      <td>-118.023660</td>\n",
       "      <td>61.15</td>\n",
       "      <td>76.30</td>\n",
       "      <td>15.15</td>\n",
       "      <td>0.0</td>\n",
       "      <td>200.0</td>\n",
       "      <td>83.0</td>\n",
       "    </tr>\n",
       "    <tr>\n",
       "      <th>...</th>\n",
       "      <td>...</td>\n",
       "      <td>...</td>\n",
       "      <td>...</td>\n",
       "      <td>...</td>\n",
       "      <td>...</td>\n",
       "      <td>...</td>\n",
       "      <td>...</td>\n",
       "      <td>...</td>\n",
       "      <td>...</td>\n",
       "      <td>...</td>\n",
       "    </tr>\n",
       "    <tr>\n",
       "      <th>485803</th>\n",
       "      <td>SL204CP1893-MW3</td>\n",
       "      <td>1656547200000000000</td>\n",
       "      <td>33.881710</td>\n",
       "      <td>-118.219151</td>\n",
       "      <td>52.41</td>\n",
       "      <td>63.96</td>\n",
       "      <td>11.55</td>\n",
       "      <td>0.0</td>\n",
       "      <td>289.0</td>\n",
       "      <td>172.0</td>\n",
       "    </tr>\n",
       "    <tr>\n",
       "      <th>485804</th>\n",
       "      <td>SL204CP1893-MW2</td>\n",
       "      <td>1656547200000000000</td>\n",
       "      <td>33.881350</td>\n",
       "      <td>-118.219306</td>\n",
       "      <td>51.83</td>\n",
       "      <td>62.89</td>\n",
       "      <td>11.06</td>\n",
       "      <td>0.0</td>\n",
       "      <td>289.0</td>\n",
       "      <td>172.0</td>\n",
       "    </tr>\n",
       "    <tr>\n",
       "      <th>485805</th>\n",
       "      <td>SL204CP1893-MW1</td>\n",
       "      <td>1656547200000000000</td>\n",
       "      <td>33.881410</td>\n",
       "      <td>-118.219139</td>\n",
       "      <td>52.46</td>\n",
       "      <td>63.14</td>\n",
       "      <td>10.68</td>\n",
       "      <td>0.0</td>\n",
       "      <td>289.0</td>\n",
       "      <td>172.0</td>\n",
       "    </tr>\n",
       "    <tr>\n",
       "      <th>485806</th>\n",
       "      <td>SL204AF1745-GMW-8</td>\n",
       "      <td>1656547200000000000</td>\n",
       "      <td>33.878426</td>\n",
       "      <td>-118.142977</td>\n",
       "      <td>25.12</td>\n",
       "      <td>62.24</td>\n",
       "      <td>37.12</td>\n",
       "      <td>0.0</td>\n",
       "      <td>289.0</td>\n",
       "      <td>172.0</td>\n",
       "    </tr>\n",
       "    <tr>\n",
       "      <th>485807</th>\n",
       "      <td>SL204AF1745-GMW-9</td>\n",
       "      <td>1656547200000000000</td>\n",
       "      <td>33.878422</td>\n",
       "      <td>-118.143241</td>\n",
       "      <td>25.13</td>\n",
       "      <td>62.30</td>\n",
       "      <td>37.17</td>\n",
       "      <td>0.0</td>\n",
       "      <td>289.0</td>\n",
       "      <td>172.0</td>\n",
       "    </tr>\n",
       "  </tbody>\n",
       "</table>\n",
       "<p>485808 rows × 10 columns</p>\n",
       "</div>"
      ],
      "text/plain": [
       "                      WID         GW_MEAS_DATE   LATITUDE   LONGITUDE   DEPTH  \\\n",
       "0           SLT4307472-4A   948931200000000000  34.021058 -118.451652  157.45   \n",
       "1         SLT4307472-115A   948931200000000000  34.018806 -118.455532  142.46   \n",
       "2       SL603792561-MW-14   948931200000000000  33.891020 -118.024076   60.85   \n",
       "3          SLT4307472-57A   948931200000000000  34.019668 -118.454001  149.01   \n",
       "4       SL603792561-MW-01   948931200000000000  33.890665 -118.023660   61.15   \n",
       "...                   ...                  ...        ...         ...     ...   \n",
       "485803    SL204CP1893-MW3  1656547200000000000  33.881710 -118.219151   52.41   \n",
       "485804    SL204CP1893-MW2  1656547200000000000  33.881350 -118.219306   51.83   \n",
       "485805    SL204CP1893-MW1  1656547200000000000  33.881410 -118.219139   52.46   \n",
       "485806  SL204AF1745-GMW-8  1656547200000000000  33.878426 -118.142977   25.12   \n",
       "485807  SL204AF1745-GMW-9  1656547200000000000  33.878422 -118.143241   25.13   \n",
       "\n",
       "        ELEVATION  WATER_ELEVATION  PRCP   TMAX   TMIN  \n",
       "0          165.66             8.21   0.0  200.0   83.0  \n",
       "1          151.94             9.48   0.0  200.0   83.0  \n",
       "2           76.25            15.40   0.0  200.0   83.0  \n",
       "3          158.18             9.17   0.0  200.0   83.0  \n",
       "4           76.30            15.15   0.0  200.0   83.0  \n",
       "...           ...              ...   ...    ...    ...  \n",
       "485803      63.96            11.55   0.0  289.0  172.0  \n",
       "485804      62.89            11.06   0.0  289.0  172.0  \n",
       "485805      63.14            10.68   0.0  289.0  172.0  \n",
       "485806      62.24            37.12   0.0  289.0  172.0  \n",
       "485807      62.30            37.17   0.0  289.0  172.0  \n",
       "\n",
       "[485808 rows x 10 columns]"
      ]
     },
     "execution_count": 35,
     "metadata": {},
     "output_type": "execute_result"
    }
   ],
   "source": [
    "data"
   ]
  },
  {
   "cell_type": "markdown",
   "metadata": {},
   "source": [
    "## Single Hyperparameter Optimization"
   ]
  },
  {
   "cell_type": "markdown",
   "metadata": {},
   "source": [
    "### Split Data into Train and Test Sets"
   ]
  },
  {
   "cell_type": "code",
   "execution_count": 4,
   "metadata": {},
   "outputs": [],
   "source": [
    "x_train, x_test, y_train, y_test = ms.train_test_split(x, y, test_size=0.2, random_state=42)"
   ]
  },
  {
   "cell_type": "markdown",
   "metadata": {},
   "source": [
    "#### N Estimators Optimization"
   ]
  },
  {
   "cell_type": "code",
   "execution_count": 5,
   "metadata": {},
   "outputs": [],
   "source": [
    "n_estimators = list(range(50, 150, 10))\n"
   ]
  },
  {
   "cell_type": "code",
   "execution_count": 6,
   "metadata": {},
   "outputs": [
    {
     "name": "stdout",
     "output_type": "stream",
     "text": [
      "Train MSE for n_estimators = 50: 3.382634823362102\n",
      "Test MSE for n_estimators = 50: 25.246222308699306\n",
      "1 / 10\n",
      "Train MSE for n_estimators = 60: 3.223960613709154\n",
      "Test MSE for n_estimators = 60: 24.723184698467854\n",
      "2 / 10\n",
      "Train MSE for n_estimators = 70: 3.1292999394867977\n",
      "Test MSE for n_estimators = 70: 24.621053096619885\n",
      "3 / 10\n",
      "Train MSE for n_estimators = 80: 3.099644205999266\n",
      "Test MSE for n_estimators = 80: 25.13162968997309\n",
      "4 / 10\n",
      "Train MSE for n_estimators = 90: 3.0608872696294163\n",
      "Test MSE for n_estimators = 90: 25.367036724290074\n",
      "5 / 10\n",
      "Train MSE for n_estimators = 100: 3.068145403485356\n",
      "Test MSE for n_estimators = 100: 25.110688214910752\n",
      "6 / 10\n",
      "Train MSE for n_estimators = 110: 3.0872493871965236\n",
      "Test MSE for n_estimators = 110: 24.324222882215054\n",
      "7 / 10\n",
      "Train MSE for n_estimators = 120: 3.0361990024602563\n",
      "Test MSE for n_estimators = 120: 23.828919303211514\n",
      "8 / 10\n",
      "Train MSE for n_estimators = 130: 2.991465905863523\n",
      "Test MSE for n_estimators = 130: 23.565283615775197\n",
      "9 / 10\n",
      "Train MSE for n_estimators = 140: 2.943477993204429\n",
      "Test MSE for n_estimators = 140: 23.73451787159012\n",
      "10 / 10\n"
     ]
    }
   ],
   "source": [
    "train_results = {}\n",
    "test_results = {}\n",
    "\n",
    "count = 0\n",
    "total = len(n_estimators)\n",
    "\n",
    "for n in n_estimators:\n",
    "\n",
    "    model = RandomForestRegressor(\n",
    "        n_estimators=n,\n",
    "        criterion ='squared_error',\n",
    "        random_state=42,\n",
    "        n_jobs=10,\n",
    "        #verbose=1\n",
    "        )\n",
    "\n",
    "    model = model.fit(x_train, y_train)\n",
    "\n",
    "    train_pred = model.predict(x_train)\n",
    "    test_pred = model.predict(x_test)\n",
    "\n",
    "    train_mse = metrics.mean_squared_error(y_train, train_pred)\n",
    "    test_mse = metrics.mean_squared_error(y_test, test_pred)\n",
    "\n",
    "    train_results[n] = train_mse\n",
    "    test_results[n] = test_mse\n",
    "\n",
    "    print(f'Train MSE for n_estimators = {n}: {train_mse}')\n",
    "    print(f'Test MSE for n_estimators = {n}: {test_mse}')\n",
    "\n",
    "    count += 1\n",
    "    print(f'{count} / {total}')\n"
   ]
  },
  {
   "cell_type": "code",
   "execution_count": 9,
   "metadata": {},
   "outputs": [
    {
     "data": {
      "image/png": "[encoded data removed]",
      "text/plain": [
       "<Figure size 1200x600 with 2 Axes>"
      ]
     },
     "metadata": {
      "needs_background": "light"
     },
     "output_type": "display_data"
    }
   ],
   "source": [
    "fig, axes = plt.subplots(1,2)\n",
    "fig.set_size_inches(12, 6)\n",
    "fig.set_dpi(100)\n",
    "\n",
    "\n",
    "axes[0].plot(train_results.keys(), train_results.values(), 'b-', label='Train')\n",
    "axes[1].plot(test_results.keys(), test_results.values(), 'r-', label='Test')\n",
    "axes[0].grid(True)\n",
    "axes[1].grid(True)\n",
    "axes[0].set_xlabel('n_estimators')\n",
    "axes[1].set_xlabel('n_estimators')\n",
    "axes[0].set_ylabel('MSE')\n",
    "axes[1].set_ylabel('MSE')\n",
    "axes[0].set_title('Train')\n",
    "axes[1].set_title('Test')\n",
    "plt.show()\n"
   ]
  },
  {
   "cell_type": "markdown",
   "metadata": {},
   "source": [
    "#### Max Depth Optimization"
   ]
  },
  {
   "cell_type": "code",
   "execution_count": 33,
   "metadata": {},
   "outputs": [
    {
     "data": {
      "text/plain": [
       "[22, 23, 24, 25, 26, 27]"
      ]
     },
     "execution_count": 33,
     "metadata": {},
     "output_type": "execute_result"
    }
   ],
   "source": [
    "max_depth = list(range(20,60,5))\n",
    "max_depth"
   ]
  },
  {
   "cell_type": "code",
   "execution_count": 31,
   "metadata": {},
   "outputs": [
    {
     "name": "stdout",
     "output_type": "stream",
     "text": [
      "Train MSE for max_depth = 20: 4.329030102269223\n",
      "Test MSE for max_depth = 20: 25.95812843055088\n",
      "1 / 8\n",
      "Train MSE for max_depth = 25: 3.2099974279255203\n",
      "Test MSE for max_depth = 25: 24.900671290220025\n",
      "2 / 8\n",
      "Train MSE for max_depth = 30: 3.133120916544906\n",
      "Test MSE for max_depth = 30: 24.983877870755776\n",
      "3 / 8\n",
      "Train MSE for max_depth = 35: 3.108560763232556\n",
      "Test MSE for max_depth = 35: 24.95542449962932\n",
      "4 / 8\n",
      "Train MSE for max_depth = 40: 3.110445091007429\n",
      "Test MSE for max_depth = 40: 25.036340643498818\n",
      "5 / 8\n",
      "Train MSE for max_depth = 45: 3.074228080181711\n",
      "Test MSE for max_depth = 45: 25.0176067113672\n",
      "6 / 8\n",
      "Train MSE for max_depth = 50: 3.0746014994410396\n",
      "Test MSE for max_depth = 50: 25.109625558507545\n",
      "7 / 8\n",
      "Train MSE for max_depth = 55: 3.0681454034853552\n",
      "Test MSE for max_depth = 55: 25.110688214910745\n",
      "8 / 8\n"
     ]
    }
   ],
   "source": [
    "train_results = {}\n",
    "test_results = {}\n",
    "\n",
    "count = 0\n",
    "total = len(max_depth)\n",
    "\n",
    "for d in max_depth:\n",
    "\n",
    "    model = RandomForestRegressor(\n",
    "        criterion ='squared_error',\n",
    "        random_state=42,\n",
    "        max_depth=d,\n",
    "        n_jobs=10,\n",
    "        #verbose=1\n",
    "        )\n",
    "\n",
    "    model = model.fit(x_train, y_train)\n",
    "\n",
    "    train_pred = model.predict(x_train)\n",
    "    test_pred = model.predict(x_test)\n",
    "\n",
    "    train_mse = metrics.mean_squared_error(y_train, train_pred)\n",
    "    test_mse = metrics.mean_squared_error(y_test, test_pred)\n",
    "\n",
    "    train_results[d] = train_mse\n",
    "    test_results[d] = test_mse\n",
    "\n",
    "    print(f'Train MSE for max_depth = {d}: {train_mse}')\n",
    "    print(f'Test MSE for max_depth = {d}: {test_mse}')\n",
    "\n",
    "    count += 1\n",
    "    print(f'{count} / {total}')"
   ]
  },
  {
   "cell_type": "code",
   "execution_count": 32,
   "metadata": {},
   "outputs": [
    {
     "data": {
      "image/png": "[encoded data removed]",
      "text/plain": [
       "<Figure size 1200x600 with 2 Axes>"
      ]
     },
     "metadata": {
      "needs_background": "light"
     },
     "output_type": "display_data"
    }
   ],
   "source": [
    "fig, axes = plt.subplots(1,2)\n",
    "fig.set_size_inches(12, 6)\n",
    "fig.set_dpi(100)\n",
    "\n",
    "\n",
    "axes[0].plot(train_results.keys(), train_results.values(), 'b-', label='Train')\n",
    "axes[1].plot(test_results.keys(), test_results.values(), 'r-', label='Test')\n",
    "axes[0].grid(True)\n",
    "axes[1].grid(True)\n",
    "axes[0].set_xlabel('max_depth')\n",
    "axes[1].set_xlabel('max_depth')\n",
    "axes[0].set_ylabel('MSE')\n",
    "axes[1].set_ylabel('MSE')\n",
    "axes[0].set_title('Train')\n",
    "axes[1].set_title('Test')\n",
    "plt.show()"
   ]
  },
  {
   "cell_type": "markdown",
   "metadata": {},
   "source": [
    "## Grid Search Cross Validation: Multi-Hyperparameter Optimization"
   ]
  },
  {
   "cell_type": "code",
   "execution_count": null,
   "metadata": {},
   "outputs": [],
   "source": [
    "def rfr_optimize_all(x,y,criterion,range_list):\n",
    "    '''\n",
    "    This function is used to optimize the hyperparameters of the Random Forest Regressor.\n",
    "    Input:\n",
    "        x: the training data\n",
    "        y: the target data\n",
    "        range_list: a list of hyperparameters to be optimized\n",
    "    '''\n",
    "    rfr = RandomForestRegressor(\n",
    "        criterion =criterion,\n",
    "        n_jobs=10,\n",
    "        verbose=1\n",
    "        )\n",
    "\n",
    "    param_grid = {\n",
    "        'n_estimators': range_list[0],\n",
    "        'max_depth': range_list[1],\n",
    "        }\n",
    "\n",
    "    grid = ms.GridSearchCV(rfr, param_grid, cv=5, scoring=criterion[1])\n",
    "    grid.fit(x, y)\n",
    "    \n",
    "    return grid.best_params_"
   ]
  },
  {
   "cell_type": "markdown",
   "metadata": {},
   "source": [
    "### Squared Error"
   ]
  },
  {
   "cell_type": "code",
   "execution_count": null,
   "metadata": {},
   "outputs": [
    {
     "name": "stderr",
     "output_type": "stream",
     "text": [
      "[Parallel(n_jobs=10)]: Using backend LokyBackend with 10 concurrent workers.\n",
      "[Parallel(n_jobs=10)]: Done  30 tasks      | elapsed:    8.6s\n",
      "[Parallel(n_jobs=10)]: Done  94 out of  94 | elapsed:   22.5s finished\n",
      "[Parallel(n_jobs=10)]: Using backend ThreadingBackend with 10 concurrent workers.\n",
      "[Parallel(n_jobs=10)]: Done  30 tasks      | elapsed:    0.0s\n",
      "[Parallel(n_jobs=10)]: Done  94 out of  94 | elapsed:    0.1s finished\n",
      "[Parallel(n_jobs=10)]: Using backend LokyBackend with 10 concurrent workers.\n",
      "[Parallel(n_jobs=10)]: Done  30 tasks      | elapsed:    6.5s\n",
      "[Parallel(n_jobs=10)]: Done  94 out of  94 | elapsed:   20.3s finished\n",
      "[Parallel(n_jobs=10)]: Using backend ThreadingBackend with 10 concurrent workers.\n",
      "[Parallel(n_jobs=10)]: Done  30 tasks      | elapsed:    0.1s\n",
      "[Parallel(n_jobs=10)]: Done  94 out of  94 | elapsed:    0.3s finished\n",
      "[Parallel(n_jobs=10)]: Using backend LokyBackend with 10 concurrent workers.\n",
      "[Parallel(n_jobs=10)]: Done  30 tasks      | elapsed:    6.3s\n",
      "[Parallel(n_jobs=10)]: Done  94 out of  94 | elapsed:   20.1s finished\n",
      "[Parallel(n_jobs=10)]: Using backend ThreadingBackend with 10 concurrent workers.\n",
      "[Parallel(n_jobs=10)]: Done  30 tasks      | elapsed:    0.0s\n",
      "[Parallel(n_jobs=10)]: Done  94 out of  94 | elapsed:    0.2s finished\n",
      "[Parallel(n_jobs=10)]: Using backend LokyBackend with 10 concurrent workers.\n",
      "[Parallel(n_jobs=10)]: Done  30 tasks      | elapsed:    6.4s\n",
      "[Parallel(n_jobs=10)]: Done  94 out of  94 | elapsed:   20.2s finished\n",
      "[Parallel(n_jobs=10)]: Using backend ThreadingBackend with 10 concurrent workers.\n",
      "[Parallel(n_jobs=10)]: Done  30 tasks      | elapsed:    0.0s\n",
      "[Parallel(n_jobs=10)]: Done  94 out of  94 | elapsed:    0.2s finished\n",
      "[Parallel(n_jobs=10)]: Using backend LokyBackend with 10 concurrent workers.\n",
      "[Parallel(n_jobs=10)]: Done  30 tasks      | elapsed:    6.4s\n",
      "[Parallel(n_jobs=10)]: Done  94 out of  94 | elapsed:   20.2s finished\n",
      "[Parallel(n_jobs=10)]: Using backend ThreadingBackend with 10 concurrent workers.\n",
      "[Parallel(n_jobs=10)]: Done  30 tasks      | elapsed:    0.1s\n",
      "[Parallel(n_jobs=10)]: Done  94 out of  94 | elapsed:    0.3s finished\n",
      "[Parallel(n_jobs=10)]: Using backend LokyBackend with 10 concurrent workers.\n",
      "[Parallel(n_jobs=10)]: Done  30 tasks      | elapsed:    6.3s\n",
      "[Parallel(n_jobs=10)]: Done  95 out of  95 | elapsed:   20.1s finished\n",
      "[Parallel(n_jobs=10)]: Using backend ThreadingBackend with 10 concurrent workers.\n",
      "[Parallel(n_jobs=10)]: Done  30 tasks      | elapsed:    0.0s\n",
      "[Parallel(n_jobs=10)]: Done  95 out of  95 | elapsed:    0.1s finished\n",
      "[Parallel(n_jobs=10)]: Using backend LokyBackend with 10 concurrent workers.\n",
      "[Parallel(n_jobs=10)]: Done  30 tasks      | elapsed:    6.3s\n",
      "[Parallel(n_jobs=10)]: Done  95 out of  95 | elapsed:   20.2s finished\n",
      "[Parallel(n_jobs=10)]: Using backend ThreadingBackend with 10 concurrent workers.\n",
      "[Parallel(n_jobs=10)]: Done  30 tasks      | elapsed:    0.0s\n",
      "[Parallel(n_jobs=10)]: Done  95 out of  95 | elapsed:    0.2s finished\n",
      "[Parallel(n_jobs=10)]: Using backend LokyBackend with 10 concurrent workers.\n",
      "[Parallel(n_jobs=10)]: Done  30 tasks      | elapsed:    6.3s\n",
      "[Parallel(n_jobs=10)]: Done  95 out of  95 | elapsed:   20.3s finished\n",
      "[Parallel(n_jobs=10)]: Using backend ThreadingBackend with 10 concurrent workers.\n",
      "[Parallel(n_jobs=10)]: Done  30 tasks      | elapsed:    0.1s\n",
      "[Parallel(n_jobs=10)]: Done  95 out of  95 | elapsed:    0.3s finished\n",
      "[Parallel(n_jobs=10)]: Using backend LokyBackend with 10 concurrent workers.\n",
      "[Parallel(n_jobs=10)]: Done  30 tasks      | elapsed:    6.3s\n",
      "[Parallel(n_jobs=10)]: Done  95 out of  95 | elapsed:   20.0s finished\n",
      "[Parallel(n_jobs=10)]: Using backend ThreadingBackend with 10 concurrent workers.\n",
      "[Parallel(n_jobs=10)]: Done  30 tasks      | elapsed:    0.0s\n",
      "[Parallel(n_jobs=10)]: Done  95 out of  95 | elapsed:    0.2s finished\n",
      "[Parallel(n_jobs=10)]: Using backend LokyBackend with 10 concurrent workers.\n",
      "[Parallel(n_jobs=10)]: Done  30 tasks      | elapsed:    6.3s\n",
      "[Parallel(n_jobs=10)]: Done  95 out of  95 | elapsed:   19.9s finished\n",
      "[Parallel(n_jobs=10)]: Using backend ThreadingBackend with 10 concurrent workers.\n",
      "[Parallel(n_jobs=10)]: Done  30 tasks      | elapsed:    0.0s\n",
      "[Parallel(n_jobs=10)]: Done  95 out of  95 | elapsed:    0.1s finished\n",
      "[Parallel(n_jobs=10)]: Using backend LokyBackend with 10 concurrent workers.\n",
      "[Parallel(n_jobs=10)]: Done  30 tasks      | elapsed:    6.3s\n",
      "[Parallel(n_jobs=10)]: Done  96 out of  96 | elapsed:   20.3s finished\n",
      "[Parallel(n_jobs=10)]: Using backend ThreadingBackend with 10 concurrent workers.\n",
      "[Parallel(n_jobs=10)]: Done  30 tasks      | elapsed:    0.1s\n",
      "[Parallel(n_jobs=10)]: Done  96 out of  96 | elapsed:    0.2s finished\n",
      "[Parallel(n_jobs=10)]: Using backend LokyBackend with 10 concurrent workers.\n",
      "[Parallel(n_jobs=10)]: Done  30 tasks      | elapsed:    6.3s\n",
      "[Parallel(n_jobs=10)]: Done  96 out of  96 | elapsed:   20.1s finished\n",
      "[Parallel(n_jobs=10)]: Using backend ThreadingBackend with 10 concurrent workers.\n",
      "[Parallel(n_jobs=10)]: Done  30 tasks      | elapsed:    0.0s\n",
      "[Parallel(n_jobs=10)]: Done  96 out of  96 | elapsed:    0.2s finished\n",
      "[Parallel(n_jobs=10)]: Using backend LokyBackend with 10 concurrent workers.\n",
      "[Parallel(n_jobs=10)]: Done  30 tasks      | elapsed:    6.3s\n",
      "[Parallel(n_jobs=10)]: Done  96 out of  96 | elapsed:   20.1s finished\n",
      "[Parallel(n_jobs=10)]: Using backend ThreadingBackend with 10 concurrent workers.\n",
      "[Parallel(n_jobs=10)]: Done  30 tasks      | elapsed:    0.0s\n",
      "[Parallel(n_jobs=10)]: Done  96 out of  96 | elapsed:    0.2s finished\n",
      "[Parallel(n_jobs=10)]: Using backend LokyBackend with 10 concurrent workers.\n",
      "[Parallel(n_jobs=10)]: Done  30 tasks      | elapsed:    6.3s\n",
      "[Parallel(n_jobs=10)]: Done  96 out of  96 | elapsed:   20.2s finished\n",
      "[Parallel(n_jobs=10)]: Using backend ThreadingBackend with 10 concurrent workers.\n",
      "[Parallel(n_jobs=10)]: Done  30 tasks      | elapsed:    0.1s\n",
      "[Parallel(n_jobs=10)]: Done  96 out of  96 | elapsed:    0.3s finished\n",
      "[Parallel(n_jobs=10)]: Using backend LokyBackend with 10 concurrent workers.\n",
      "[Parallel(n_jobs=10)]: Done  30 tasks      | elapsed:    6.3s\n",
      "[Parallel(n_jobs=10)]: Done  96 out of  96 | elapsed:   20.0s finished\n",
      "[Parallel(n_jobs=10)]: Using backend ThreadingBackend with 10 concurrent workers.\n",
      "[Parallel(n_jobs=10)]: Done  30 tasks      | elapsed:    0.0s\n",
      "[Parallel(n_jobs=10)]: Done  96 out of  96 | elapsed:    0.1s finished\n",
      "[Parallel(n_jobs=10)]: Using backend LokyBackend with 10 concurrent workers.\n",
      "[Parallel(n_jobs=10)]: Done  30 tasks      | elapsed:    6.3s\n",
      "[Parallel(n_jobs=10)]: Done  97 out of  97 | elapsed:   20.2s finished\n",
      "[Parallel(n_jobs=10)]: Using backend ThreadingBackend with 10 concurrent workers.\n",
      "[Parallel(n_jobs=10)]: Done  30 tasks      | elapsed:    0.0s\n",
      "[Parallel(n_jobs=10)]: Done  97 out of  97 | elapsed:    0.1s finished\n",
      "[Parallel(n_jobs=10)]: Using backend LokyBackend with 10 concurrent workers.\n",
      "[Parallel(n_jobs=10)]: Done  30 tasks      | elapsed:    6.3s\n",
      "[Parallel(n_jobs=10)]: Done  97 out of  97 | elapsed:   20.4s finished\n",
      "[Parallel(n_jobs=10)]: Using backend ThreadingBackend with 10 concurrent workers.\n",
      "[Parallel(n_jobs=10)]: Done  30 tasks      | elapsed:    0.1s\n",
      "[Parallel(n_jobs=10)]: Done  97 out of  97 | elapsed:    0.3s finished\n",
      "[Parallel(n_jobs=10)]: Using backend LokyBackend with 10 concurrent workers.\n",
      "[Parallel(n_jobs=10)]: Done  30 tasks      | elapsed:    6.3s\n",
      "[Parallel(n_jobs=10)]: Done  97 out of  97 | elapsed:   20.3s finished\n",
      "[Parallel(n_jobs=10)]: Using backend ThreadingBackend with 10 concurrent workers.\n",
      "[Parallel(n_jobs=10)]: Done  30 tasks      | elapsed:    0.0s\n",
      "[Parallel(n_jobs=10)]: Done  97 out of  97 | elapsed:    0.3s finished\n",
      "[Parallel(n_jobs=10)]: Using backend LokyBackend with 10 concurrent workers.\n",
      "[Parallel(n_jobs=10)]: Done  30 tasks      | elapsed:    6.3s\n",
      "[Parallel(n_jobs=10)]: Done  97 out of  97 | elapsed:   20.4s finished\n",
      "[Parallel(n_jobs=10)]: Using backend ThreadingBackend with 10 concurrent workers.\n",
      "[Parallel(n_jobs=10)]: Done  30 tasks      | elapsed:    0.0s\n",
      "[Parallel(n_jobs=10)]: Done  97 out of  97 | elapsed:    0.2s finished\n",
      "[Parallel(n_jobs=10)]: Using backend LokyBackend with 10 concurrent workers.\n",
      "[Parallel(n_jobs=10)]: Done  30 tasks      | elapsed:    6.4s\n",
      "[Parallel(n_jobs=10)]: Done  97 out of  97 | elapsed:   20.4s finished\n",
      "[Parallel(n_jobs=10)]: Using backend ThreadingBackend with 10 concurrent workers.\n",
      "[Parallel(n_jobs=10)]: Done  30 tasks      | elapsed:    0.1s\n",
      "[Parallel(n_jobs=10)]: Done  97 out of  97 | elapsed:    0.2s finished\n",
      "[Parallel(n_jobs=10)]: Using backend LokyBackend with 10 concurrent workers.\n",
      "[Parallel(n_jobs=10)]: Done  30 tasks      | elapsed:    6.3s\n",
      "[Parallel(n_jobs=10)]: Done  98 out of  98 | elapsed:   20.4s finished\n",
      "[Parallel(n_jobs=10)]: Using backend ThreadingBackend with 10 concurrent workers.\n",
      "[Parallel(n_jobs=10)]: Done  30 tasks      | elapsed:    0.0s\n",
      "[Parallel(n_jobs=10)]: Done  98 out of  98 | elapsed:    0.2s finished\n",
      "[Parallel(n_jobs=10)]: Using backend LokyBackend with 10 concurrent workers.\n",
      "[Parallel(n_jobs=10)]: Done  30 tasks      | elapsed:    6.4s\n",
      "[Parallel(n_jobs=10)]: Done  98 out of  98 | elapsed:   20.4s finished\n",
      "[Parallel(n_jobs=10)]: Using backend ThreadingBackend with 10 concurrent workers.\n",
      "[Parallel(n_jobs=10)]: Done  30 tasks      | elapsed:    0.0s\n",
      "[Parallel(n_jobs=10)]: Done  98 out of  98 | elapsed:    0.2s finished\n",
      "[Parallel(n_jobs=10)]: Using backend LokyBackend with 10 concurrent workers.\n",
      "[Parallel(n_jobs=10)]: Done  30 tasks      | elapsed:    6.3s\n",
      "[Parallel(n_jobs=10)]: Done  98 out of  98 | elapsed:   20.4s finished\n",
      "[Parallel(n_jobs=10)]: Using backend ThreadingBackend with 10 concurrent workers.\n",
      "[Parallel(n_jobs=10)]: Done  30 tasks      | elapsed:    0.1s\n",
      "[Parallel(n_jobs=10)]: Done  98 out of  98 | elapsed:    0.4s finished\n",
      "[Parallel(n_jobs=10)]: Using backend LokyBackend with 10 concurrent workers.\n",
      "[Parallel(n_jobs=10)]: Done  30 tasks      | elapsed:    6.3s\n",
      "[Parallel(n_jobs=10)]: Done  98 out of  98 | elapsed:   20.3s finished\n",
      "[Parallel(n_jobs=10)]: Using backend ThreadingBackend with 10 concurrent workers.\n",
      "[Parallel(n_jobs=10)]: Done  30 tasks      | elapsed:    0.0s\n",
      "[Parallel(n_jobs=10)]: Done  98 out of  98 | elapsed:    0.2s finished\n",
      "[Parallel(n_jobs=10)]: Using backend LokyBackend with 10 concurrent workers.\n",
      "[Parallel(n_jobs=10)]: Done  30 tasks      | elapsed:    6.3s\n",
      "[Parallel(n_jobs=10)]: Done  98 out of  98 | elapsed:   20.4s finished\n",
      "[Parallel(n_jobs=10)]: Using backend ThreadingBackend with 10 concurrent workers.\n",
      "[Parallel(n_jobs=10)]: Done  30 tasks      | elapsed:    0.0s\n",
      "[Parallel(n_jobs=10)]: Done  98 out of  98 | elapsed:    0.1s finished\n",
      "[Parallel(n_jobs=10)]: Using backend ThreadingBackend with 10 concurrent workers.\n",
      "[Parallel(n_jobs=10)]: Done  30 tasks      | elapsed:    8.6s\n"
     ]
    },
    {
     "name": "stdout",
     "output_type": "stream",
     "text": [
      "{'max_depth': 56, 'n_estimators': 96}\n"
     ]
    },
    {
     "name": "stderr",
     "output_type": "stream",
     "text": [
      "[Parallel(n_jobs=10)]: Done  96 out of  96 | elapsed:   26.0s finished\n"
     ]
    }
   ],
   "source": [
    "criterion = ['squared_error', 'neg_mean_squared_error']\n",
    "n_estimators = list(range(94, 99, 1))\n",
    "max_depth = list(range(56,57,1))\n",
    "range_list = [n_estimators, max_depth]\n",
    "\n",
    "\n",
    "best_mse = rfr_optimize_all(x, y, criterion, range_list)\n",
    "print(best_mse)"
   ]
  },
  {
   "cell_type": "markdown",
   "metadata": {},
   "source": [
    "## Test Model"
   ]
  },
  {
   "cell_type": "code",
   "execution_count": 67,
   "metadata": {},
   "outputs": [],
   "source": [
    "x_train, x_test, y_train, y_test = ms.train_test_split(x, y, test_size=0.2)"
   ]
  },
  {
   "cell_type": "code",
   "execution_count": 68,
   "metadata": {},
   "outputs": [],
   "source": [
    "x_train, x_test, y_train, y_test = ms.train_test_split(x, y, test_size=0.2)\n",
    "\n",
    "parameters = {'max_depth': 56, 'n_estimators': 96}\n",
    "\n",
    "rfr = RandomForestRegressor(\n",
    "    n_estimators=parameters.get('n_estimators'),\n",
    "    max_depth=parameters.get('max_depth'),\n",
    "    criterion ='squared_error',\n",
    "    n_jobs=10,\n",
    "    verbose=2\n",
    "    )"
   ]
  },
  {
   "cell_type": "code",
   "execution_count": 69,
   "metadata": {},
   "outputs": [
    {
     "name": "stderr",
     "output_type": "stream",
     "text": [
      "[Parallel(n_jobs=10)]: Using backend ThreadingBackend with 10 concurrent workers.\n"
     ]
    },
    {
     "name": "stdout",
     "output_type": "stream",
     "text": [
      "building tree 1 of 96building tree 2 of 96\n",
      "building tree 3 of 96\n",
      "\n",
      "building tree 4 of 96\n",
      "building tree 5 of 96\n",
      "building tree 6 of 96\n",
      "building tree 7 of 96\n",
      "building tree 8 of 96\n",
      "building tree 9 of 96\n",
      "building tree 10 of 96\n",
      "building tree 11 of 96\n",
      "building tree 12 of 96\n",
      "building tree 13 of 96\n",
      "building tree 14 of 96\n",
      "building tree 15 of 96\n",
      "building tree 16 of 96\n",
      "building tree 17 of 96\n",
      "building tree 18 of 96\n",
      "building tree 19 of 96\n",
      "building tree 20 of 96\n",
      "building tree 21 of 96\n",
      "building tree 22 of 96\n",
      "building tree 23 of 96\n",
      "building tree 24 of 96\n",
      "building tree 25 of 96\n",
      "building tree 26 of 96\n",
      "building tree 27 of 96\n",
      "building tree 28 of 96\n",
      "building tree 29 of 96\n",
      "building tree 30 of 96\n",
      "building tree 31 of 96\n",
      "building tree 32 of 96\n",
      "building tree 33 of 96\n",
      "building tree 34 of 96\n"
     ]
    },
    {
     "name": "stderr",
     "output_type": "stream",
     "text": [
      "[Parallel(n_jobs=10)]: Done  21 tasks      | elapsed:    6.1s\n"
     ]
    },
    {
     "name": "stdout",
     "output_type": "stream",
     "text": [
      "building tree 35 of 96\n",
      "building tree 36 of 96\n",
      "building tree 37 of 96\n",
      "building tree 38 of 96\n",
      "building tree 39 of 96\n",
      "building tree 40 of 96\n",
      "building tree 41 of 96\n",
      "building tree 42 of 96\n",
      "building tree 43 of 96\n",
      "building tree 44 of 96\n",
      "building tree 45 of 96\n",
      "building tree 46 of 96\n",
      "building tree 47 of 96\n",
      "building tree 48 of 96\n",
      "building tree 49 of 96\n",
      "building tree 50 of 96\n",
      "building tree 51 of 96\n",
      "building tree 52 of 96\n",
      "building tree 53 of 96\n",
      "building tree 54 of 96\n",
      "building tree 55 of 96\n",
      "building tree 56 of 96\n",
      "building tree 57 of 96\n",
      "building tree 58 of 96\n",
      "building tree 59 of 96\n",
      "building tree 60 of 96\n",
      "building tree 61 of 96\n",
      "building tree 62 of 96\n",
      "building tree 63 of 96\n",
      "building tree 64 of 96\n",
      "building tree 65 of 96\n",
      "building tree 66 of 96\n",
      "building tree 67 of 96\n",
      "building tree 68 of 96building tree 69 of 96\n",
      "\n",
      "building tree 70 of 96\n",
      "building tree 71 of 96\n",
      "building tree 72 of 96\n",
      "building tree 73 of 96\n",
      "building tree 74 of 96\n",
      "building tree 75 of 96\n",
      "building tree 76 of 96\n",
      "building tree 77 of 96\n",
      "building tree 78 of 96\n",
      "building tree 79 of 96\n",
      "building tree 80 of 96\n",
      "building tree 81 of 96\n",
      "building tree 82 of 96\n",
      "building tree 83 of 96\n",
      "building tree 84 of 96\n",
      "building tree 85 of 96\n",
      "building tree 86 of 96\n",
      "building tree 87 of 96\n",
      "building tree 88 of 96\n",
      "building tree 89 of 96\n",
      "building tree 90 of 96\n",
      "building tree 91 of 96\n",
      "building tree 92 of 96\n",
      "building tree 93 of 96\n",
      "building tree 94 of 96\n",
      "building tree 95 of 96\n",
      "building tree 96 of 96\n"
     ]
    },
    {
     "name": "stderr",
     "output_type": "stream",
     "text": [
      "[Parallel(n_jobs=10)]: Done  96 out of  96 | elapsed:   21.5s finished\n"
     ]
    },
    {
     "data": {
      "text/html": [
       "<style>#sk-container-id-6 {color: black;background-color: white;}#sk-container-id-6 pre{padding: 0;}#sk-container-id-6 div.sk-toggleable {background-color: white;}#sk-container-id-6 label.sk-toggleable__label {cursor: pointer;display: block;width: 100%;margin-bottom: 0;padding: 0.3em;box-sizing: border-box;text-align: center;}#sk-container-id-6 label.sk-toggleable__label-arrow:before {content: \"▸\";float: left;margin-right: 0.25em;color: #696969;}#sk-container-id-6 label.sk-toggleable__label-arrow:hover:before {color: black;}#sk-container-id-6 div.sk-estimator:hover label.sk-toggleable__label-arrow:before {color: black;}#sk-container-id-6 div.sk-toggleable__content {max-height: 0;max-width: 0;overflow: hidden;text-align: left;background-color: #f0f8ff;}#sk-container-id-6 div.sk-toggleable__content pre {margin: 0.2em;color: black;border-radius: 0.25em;background-color: #f0f8ff;}#sk-container-id-6 input.sk-toggleable__control:checked~div.sk-toggleable__content {max-height: 200px;max-width: 100%;overflow: auto;}#sk-container-id-6 input.sk-toggleable__control:checked~label.sk-toggleable__label-arrow:before {content: \"▾\";}#sk-container-id-6 div.sk-estimator input.sk-toggleable__control:checked~label.sk-toggleable__label {background-color: #d4ebff;}#sk-container-id-6 div.sk-label input.sk-toggleable__control:checked~label.sk-toggleable__label {background-color: #d4ebff;}#sk-container-id-6 input.sk-hidden--visually {border: 0;clip: rect(1px 1px 1px 1px);clip: rect(1px, 1px, 1px, 1px);height: 1px;margin: -1px;overflow: hidden;padding: 0;position: absolute;width: 1px;}#sk-container-id-6 div.sk-estimator {font-family: monospace;background-color: #f0f8ff;border: 1px dotted black;border-radius: 0.25em;box-sizing: border-box;margin-bottom: 0.5em;}#sk-container-id-6 div.sk-estimator:hover {background-color: #d4ebff;}#sk-container-id-6 div.sk-parallel-item::after {content: \"\";width: 100%;border-bottom: 1px solid gray;flex-grow: 1;}#sk-container-id-6 div.sk-label:hover label.sk-toggleable__label {background-color: #d4ebff;}#sk-container-id-6 div.sk-serial::before {content: \"\";position: absolute;border-left: 1px solid gray;box-sizing: border-box;top: 0;bottom: 0;left: 50%;z-index: 0;}#sk-container-id-6 div.sk-serial {display: flex;flex-direction: column;align-items: center;background-color: white;padding-right: 0.2em;padding-left: 0.2em;position: relative;}#sk-container-id-6 div.sk-item {position: relative;z-index: 1;}#sk-container-id-6 div.sk-parallel {display: flex;align-items: stretch;justify-content: center;background-color: white;position: relative;}#sk-container-id-6 div.sk-item::before, #sk-container-id-6 div.sk-parallel-item::before {content: \"\";position: absolute;border-left: 1px solid gray;box-sizing: border-box;top: 0;bottom: 0;left: 50%;z-index: -1;}#sk-container-id-6 div.sk-parallel-item {display: flex;flex-direction: column;z-index: 1;position: relative;background-color: white;}#sk-container-id-6 div.sk-parallel-item:first-child::after {align-self: flex-end;width: 50%;}#sk-container-id-6 div.sk-parallel-item:last-child::after {align-self: flex-start;width: 50%;}#sk-container-id-6 div.sk-parallel-item:only-child::after {width: 0;}#sk-container-id-6 div.sk-dashed-wrapped {border: 1px dashed gray;margin: 0 0.4em 0.5em 0.4em;box-sizing: border-box;padding-bottom: 0.4em;background-color: white;}#sk-container-id-6 div.sk-label label {font-family: monospace;font-weight: bold;display: inline-block;line-height: 1.2em;}#sk-container-id-6 div.sk-label-container {text-align: center;}#sk-container-id-6 div.sk-container {/* jupyter's `normalize.less` sets `[hidden] { display: none; }` but bootstrap.min.css set `[hidden] { display: none !important; }` so we also need the `!important` here to be able to override the default hidden behavior on the sphinx rendered scikit-learn.org. See: https://github.com/scikit-learn/scikit-learn/issues/21755 */display: inline-block !important;position: relative;}#sk-container-id-6 div.sk-text-repr-fallback {display: none;}</style><div id=\"sk-container-id-6\" class=\"sk-top-container\"><div class=\"sk-text-repr-fallback\"><pre>RandomForestRegressor(max_depth=56, n_estimators=96, n_jobs=10, verbose=2)</pre><b>In a Jupyter environment, please rerun this cell to show the HTML representation or trust the notebook. <br />On GitHub, the HTML representation is unable to render, please try loading this page with nbviewer.org.</b></div><div class=\"sk-container\" hidden><div class=\"sk-item\"><div class=\"sk-estimator sk-toggleable\"><input class=\"sk-toggleable__control sk-hidden--visually\" id=\"sk-estimator-id-6\" type=\"checkbox\" checked><label for=\"sk-estimator-id-6\" class=\"sk-toggleable__label sk-toggleable__label-arrow\">RandomForestRegressor</label><div class=\"sk-toggleable__content\"><pre>RandomForestRegressor(max_depth=56, n_estimators=96, n_jobs=10, verbose=2)</pre></div></div></div></div></div>"
      ],
      "text/plain": [
       "RandomForestRegressor(max_depth=56, n_estimators=96, n_jobs=10, verbose=2)"
      ]
     },
     "execution_count": 69,
     "metadata": {},
     "output_type": "execute_result"
    }
   ],
   "source": [
    "rfr.fit(x_train, y_train)"
   ]
  },
  {
   "cell_type": "code",
   "execution_count": 71,
   "metadata": {},
   "outputs": [
    {
     "name": "stdout",
     "output_type": "stream",
     "text": [
      "MSE: 15.043011491998996\n",
      "RMSE: 3.8785321311030794\n",
      "R2: 0.9998161650429246\n",
      "Adjusted R2: 0.9998161536898317\n",
      "Explained Variance Score: 0.9998161675880348\n"
     ]
    }
   ],
   "source": [
    "y_pred = rfr.predict(x_test)\n",
    "\n",
    "mse = metrics.mean_squared_error(y_test, y_pred)\n",
    "print(f'MSE: {mse}')\n",
    "\n",
    "rmse = np.sqrt(mse)\n",
    "print(f'RMSE: {rmse}')\n",
    "\n",
    "r2 = metrics.r2_score(y_test, y_pred)\n",
    "print(f'R2: {r2}')\n",
    "\n",
    "adj_r2 = 1 - (1 - r2) * (len(y_test) - 1) / (len(y_test) - len(x_test.columns))\n",
    "print(f'Adjusted R2: {adj_r2}')\n",
    "\n",
    "evs = metrics.explained_variance_score(y_test, y_pred)\n",
    "print(f'Explained Variance Score: {evs}')"
   ]
  }
 ],
 "metadata": {
  "kernelspec": {
   "display_name": "Python 3.9.13 ('geoprj')",
   "language": "python",
   "name": "python3"
  },
  "language_info": {
   "codemirror_mode": {
    "name": "ipython",
    "version": 3
   },
   "file_extension": ".py",
   "mimetype": "text/x-python",
   "name": "python",
   "nbconvert_exporter": "python",
   "pygments_lexer": "ipython3",
   "version": "3.9.13"
  },
  "orig_nbformat": 4,
  "vscode": {
   "interpreter": {
    "hash": "23234625f55973f7a58126a35d86facfdbb1213f4cf262be4a4984331c60271a"
   }
  }
 },
 "nbformat": 4,
 "nbformat_minor": 2
}
