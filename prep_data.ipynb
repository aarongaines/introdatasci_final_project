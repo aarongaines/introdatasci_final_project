{
 "cells": [
  {
   "cell_type": "markdown",
   "metadata": {},
   "source": [
    "# Preprocessing Data"
   ]
  },
  {
   "cell_type": "markdown",
   "metadata": {},
   "source": [
    "This notebook is used to preprocess the data for the final project so it is ready for analysis. Each data set is preprocessed separately and then combined into one data set and saved as \"full.csv\". Currently the data is preprocessed and merged for the following data sets:\n",
    "\n",
    "1. [Depth to Groundwater]()\n",
    "2. [Well Elevation]()\n",
    "3. [Well XY]()\n",
    "4. [Daily Weather Data]()"
   ]
  },
  {
   "cell_type": "code",
   "execution_count": 1,
   "metadata": {},
   "outputs": [],
   "source": [
    "import pandas as pd\n",
    "import numpy as np\n",
    "from datetime import date\n",
    "import scipy.stats as stats"
   ]
  },
  {
   "cell_type": "markdown",
   "metadata": {},
   "source": [
    "## Create definitions for the following functions:"
   ]
  },
  {
   "cell_type": "code",
   "execution_count": 2,
   "metadata": {},
   "outputs": [],
   "source": [
    "\"\"\"\n",
    "Function to consistently create a well ID (WID) column\n",
    "\"\"\"\n",
    "def create_WID(df, col_name):\n",
    "    \n",
    "    df['WID'] = df['GLOBAL_ID'] + '-' + df[col_name]\n",
    "    return df"
   ]
  },
  {
   "cell_type": "code",
   "execution_count": 3,
   "metadata": {},
   "outputs": [],
   "source": [
    "\"\"\"\n",
    "Function to create a date column for the LA weather data\n",
    "\"\"\"\n",
    "def get_date(row):\n",
    "\n",
    "    string = str(row['DATE'])\n",
    "\n",
    "    year = string[:4]\n",
    "    month = string[4:6]\n",
    "    day = string[6:]\n",
    "\n",
    "    date = year + '-' + month + '-' + day\n",
    "\n",
    "    return date"
   ]
  },
  {
   "cell_type": "markdown",
   "metadata": {},
   "source": [
    "def get_date(row):\n",
    "    string = str(row['DATE'])\n",
    "    year = string[:4]\n",
    "    month = string[4:6]\n",
    "    day = string[6:]\n",
    "    date = year + '-' + month + '-' + day\n",
    "    return date\n",
    "\n",
    "weather['S_DATE'] = weather.apply(get_date, axis=1)\n",
    "weather['DATE'] = pd.to_datetime(weather['S_DATE'])\n",
    "weather =  weather[['DATE', 'ELEMENT', 'DATA_VALUE']]"
   ]
  },
  {
   "cell_type": "markdown",
   "metadata": {},
   "source": [
    "## Load the data"
   ]
  },
  {
   "cell_type": "markdown",
   "metadata": {},
   "source": [
    "### Geotracker Depth to Groundwater"
   ]
  },
  {
   "cell_type": "code",
   "execution_count": 4,
   "metadata": {},
   "outputs": [
    {
     "name": "stderr",
     "output_type": "stream",
     "text": [
      "c:\\Users\\chief\\.conda\\envs\\geoprj\\lib\\site-packages\\IPython\\core\\interactiveshell.py:3398: DtypeWarning: Columns (3,4,7,8,9,10) have mixed types.Specify dtype option on import or set low_memory=False.\n",
      "  exec(code_obj, self.user_global_ns, self.user_ns)\n"
     ]
    }
   ],
   "source": [
    "# Load depth to groundwater data\n",
    "geo_well = pd.read_csv('data/LosAngelesGeoWell.txt', sep='\\t', encoding='unicode_escape')\n",
    "\n",
    "# Convert date to datetime\n",
    "geo_well['GW_MEAS_DATE'] = pd.to_datetime(geo_well['GW_MEAS_DATE'],format='%Y-%m-%d', errors='coerce')\n",
    "\n",
    "# Create a mask for any rows with dates past the current date and drop them.\n",
    "mask = geo_well['GW_MEAS_DATE'] >= str(date.today())\n",
    "geo_well = geo_well[~mask]\n",
    "\n",
    "# Create a mask for any rows with dates before the specified date (01-01-2000) and drop them.\n",
    "mask = geo_well['GW_MEAS_DATE'] <= '01-01-2000'\n",
    "geo_well = geo_well[~mask]\n",
    "\n",
    "# Drop any rows with null values for GW_MEAS_DATE and reset the index.\n",
    "geo_well.dropna(subset=['GW_MEAS_DATE'], inplace=True)\n",
    "geo_well.reset_index(drop=True, inplace=True)\n",
    "\n",
    "# Fill NaNs with 0 for the DTFPROD and DTW columns.\n",
    "geo_well['DTFPROD'].fillna(0, inplace=True)\n",
    "geo_well['DTW'].fillna(0, inplace=True)\n",
    "\n",
    "# Create a new column for the total depth to groundwater.\n",
    "geo_well['DEPTH'] = np.nan\n",
    "\n",
    "# Create mask for rows with DTFPROD == 0 then sets DEPTH equal to DTW.\n",
    "mask = geo_well['DTFPROD'] == 0\n",
    "geo_well.loc[mask, 'DEPTH'] = geo_well['DTW']\n",
    "\n",
    "# Create maks for rows with DTW == 0 then sets DEPTH equal to DTFPROD.\n",
    "mask = geo_well['DTW'] == 0\n",
    "geo_well.loc[mask, 'DEPTH'] = geo_well['DTFPROD']\n",
    "\n",
    "# Create a mask for rows with DTFPROD != 0 and DTW != 0 then sets DEPTH equal to DTW.\n",
    "mask = (geo_well['DTW'] != 0) & (geo_well['DTFPROD'] != 0)\n",
    "geo_well.loc[mask, 'DEPTH'] = geo_well['DTW']\n",
    "\n",
    "# Create mask for rows with depth of 0 and drop them.\n",
    "mask = geo_well['DEPTH'] == 0\n",
    "geo_well = geo_well[~mask]\n",
    "\n",
    "# Create a WID column.\n",
    "geo_well = create_WID(geo_well, 'FIELD_POINT_NAME')\n",
    "geo_well['GID'] = geo_well['WID'] + ':' + geo_well['GW_MEAS_DATE'].astype(str)"
   ]
  },
  {
   "cell_type": "markdown",
   "metadata": {},
   "source": [
    "### Geotracker Well Elevation"
   ]
  },
  {
   "cell_type": "code",
   "execution_count": 5,
   "metadata": {},
   "outputs": [
    {
     "name": "stderr",
     "output_type": "stream",
     "text": [
      "b'Skipping line 211619: expected 12 fields, saw 20\\n'\n",
      "c:\\Users\\chief\\.conda\\envs\\geoprj\\lib\\site-packages\\IPython\\core\\interactiveshell.py:3398: DtypeWarning: Columns (2,5,9,10,11) have mixed types.Specify dtype option on import or set low_memory=False.\n",
      "  exec(code_obj, self.user_global_ns, self.user_ns)\n"
     ]
    }
   ],
   "source": [
    "# Load the top of well elevation data.\n",
    "geo_z = pd.read_csv('data/LosAngelesGeoZ.txt', sep='\\t', encoding='unicode_escape', on_bad_lines='warn')\n",
    "\n",
    "# Fill in NaN values with 0\n",
    "geo_z['RISER_HT'].fillna(0, inplace=True)\n",
    "\n",
    "# Remove invalid rows\n",
    "geo_z.drop(geo_z[geo_z['RISER_HT'] == '2009-12-18'].index, inplace=True)\n",
    "\n",
    "# Add RISER_HT to the ELEVATION column to get true well casing elevation (where depth to water is measured from).\n",
    "geo_z['ELEVATION'] = geo_z['ELEVATION'] + geo_z['RISER_HT'].astype(float)\n",
    "\n",
    "# Remove rows with invalid ELEVATION values\n",
    "geo_z.dropna(subset=['ELEVATION'], inplace=True)\n",
    "\n",
    "# Create WID column.\n",
    "geo_z = create_WID(geo_z, 'FIELD_PT_NAME')\n",
    "\n",
    "# Keep only requied columns.\n",
    "geo_z = geo_z[['WID', 'ELEVATION']]"
   ]
  },
  {
   "cell_type": "markdown",
   "metadata": {},
   "source": [
    "### Geotracker Well XY"
   ]
  },
  {
   "cell_type": "code",
   "execution_count": 6,
   "metadata": {},
   "outputs": [
    {
     "name": "stderr",
     "output_type": "stream",
     "text": [
      "b'Skipping line 18923: expected 13 fields, saw 14\\nSkipping line 19016: expected 13 fields, saw 14\\n'\n",
      "b'Skipping line 200273: expected 13 fields, saw 14\\nSkipping line 200274: expected 13 fields, saw 14\\nSkipping line 200275: expected 13 fields, saw 14\\nSkipping line 200444: expected 13 fields, saw 14\\nSkipping line 200445: expected 13 fields, saw 14\\nSkipping line 200446: expected 13 fields, saw 14\\nSkipping line 201921: expected 13 fields, saw 14\\nSkipping line 201922: expected 13 fields, saw 14\\nSkipping line 202073: expected 13 fields, saw 14\\nSkipping line 202074: expected 13 fields, saw 14\\nSkipping line 202075: expected 13 fields, saw 14\\nSkipping line 202076: expected 13 fields, saw 14\\nSkipping line 202396: expected 13 fields, saw 14\\nSkipping line 202660: expected 13 fields, saw 14\\nSkipping line 202901: expected 13 fields, saw 14\\nSkipping line 202902: expected 13 fields, saw 14\\nSkipping line 205043: expected 13 fields, saw 14\\nSkipping line 205044: expected 13 fields, saw 14\\nSkipping line 205045: expected 13 fields, saw 14\\nSkipping line 207529: expected 13 fields, saw 19\\nSkipping line 210867: expected 13 fields, saw 15\\nSkipping line 210868: expected 13 fields, saw 15\\nSkipping line 210869: expected 13 fields, saw 15\\nSkipping line 210870: expected 13 fields, saw 15\\nSkipping line 210871: expected 13 fields, saw 15\\nSkipping line 210872: expected 13 fields, saw 15\\nSkipping line 210873: expected 13 fields, saw 15\\nSkipping line 210874: expected 13 fields, saw 15\\nSkipping line 210875: expected 13 fields, saw 15\\nSkipping line 210876: expected 13 fields, saw 15\\nSkipping line 210877: expected 13 fields, saw 15\\nSkipping line 210878: expected 13 fields, saw 15\\nSkipping line 210879: expected 13 fields, saw 15\\n'\n",
      "c:\\Users\\chief\\.conda\\envs\\geoprj\\lib\\site-packages\\IPython\\core\\interactiveshell.py:3398: DtypeWarning: Columns (3,4,5,6,7,9,11,12) have mixed types.Specify dtype option on import or set low_memory=False.\n",
      "  exec(code_obj, self.user_global_ns, self.user_ns)\n"
     ]
    }
   ],
   "source": [
    "# Load the well location data.\n",
    "geo_xy = pd.read_csv('data/LosAngelesGeoXY.txt', sep='\\t', encoding='unicode_escape', on_bad_lines='warn')\n",
    "\n",
    "# Create WID column.\n",
    "geo_xy = create_WID(geo_xy, 'FIELD_PT_NAME')\n",
    "\n",
    "# Create mask for rows with NaN X and Y values and drop them.\n",
    "mask = (geo_xy['LATITUDE'].isna()) | (geo_xy['LONGITUDE'].isna())\n",
    "geo_xy = geo_xy[~mask]\n",
    "\n",
    "# Create mask for rows with latitude and longitude in NAD83 and keep them.\n",
    "mask = geo_xy['XY_DATUM'] == 'NAD83'\n",
    "geo_xy = geo_xy[mask]\n",
    "\n",
    "# Reset the index.\n",
    "geo_xy.reset_index(drop=True, inplace=True)\n",
    "\n",
    "# Keep only required columns.\n",
    "geo_xy = geo_xy[['WID', 'LONGITUDE', 'LATITUDE']]"
   ]
  },
  {
   "cell_type": "markdown",
   "metadata": {},
   "source": [
    "### Los Angeles USC Weather Station Data"
   ]
  },
  {
   "cell_type": "code",
   "execution_count": 7,
   "metadata": {},
   "outputs": [],
   "source": [
    "# Load the weather data.\n",
    "weather = pd.read_csv('data/USW00093134.csv', engine='python')\n",
    "\n",
    "# Create a string date column.\n",
    "weather['S_DATE'] = weather.apply(get_date, axis=1)\n",
    "\n",
    "# Fix date column using pandas' to_datetime function and the string date.\n",
    "weather['DATE'] = pd.to_datetime(weather['S_DATE'])\n",
    "\n",
    "# Keep only required columns.\n",
    "weather =  weather[['DATE', 'ELEMENT', 'DATA_VALUE']]\n",
    "\n",
    "# Create mask for the types of weather data we want to keep, i.e. precipitation, min and max temperature.\n",
    "mask = (weather['ELEMENT'] == 'TMAX') | (weather['ELEMENT'] == 'TMIN') | (weather['ELEMENT'] == 'PRCP')\n",
    "\n",
    "# Create pivot table for the weather data types, each row is a date and each column is a weather data type.\n",
    "pivot = weather[mask].pivot_table(index='DATE', columns='ELEMENT', values='DATA_VALUE')\n",
    "\n",
    "# Drop rows with NaN values and reset the index.\n",
    "pivot.dropna(inplace=True)\n",
    "pivot.reset_index(inplace=True)"
   ]
  },
  {
   "cell_type": "markdown",
   "metadata": {},
   "source": [
    "### Merge dataframes"
   ]
  },
  {
   "cell_type": "code",
   "execution_count": 11,
   "metadata": {},
   "outputs": [],
   "source": [
    "# Create Pandas dataframe for the well data by merging the depth to water and well elevation data.\n",
    "geo = pd.merge(geo_well, geo_z, on='WID', how='left')\n",
    "\n",
    "# Merge the well data with the xy data.\n",
    "geo = pd.merge(geo, geo_xy, on='WID', how='left')\n",
    "\n",
    "# Merge the well data with the weather data.\n",
    "geo = pd.merge(geo, pivot, left_on='GW_MEAS_DATE', right_on='DATE', how='left')\n",
    "\n",
    "# Drop NaNs from the ELEVATION column.\n",
    "geo.dropna(subset=['ELEVATION'], inplace=True)\n",
    "\n",
    "# Drop duplicate GID rows.\n",
    "geo.drop_duplicates(subset=['GID'], inplace=True)\n",
    "\n",
    "# Create WATER_ELEVATION column by subtracting the the depth to water from the well elevation.\n",
    "geo['WATER_ELEVATION'] = geo['ELEVATION'] - geo['DEPTH']\n",
    "\n",
    "# Drop NaNs from the WATER_ELEVATION, LATIDUTE, and LONGITUDE columns.\n",
    "geo.dropna(subset=['WATER_ELEVATION','LATITUDE','LONGITUDE'], inplace=True)\n",
    "\n",
    "# Sort values by date and then reset the index.\n",
    "geo.sort_values(by=['GW_MEAS_DATE'], inplace=True)\n",
    "\n",
    "# Create ZSCORE columns for DEPTH and WATER_ELEVATION and use them to remove outliers.\n",
    "geo['ZSCORE_DEPTH'] =  stats.zscore(geo['DEPTH'])\n",
    "geo['ZSCORE_WELEV'] =  stats.zscore(geo['WATER_ELEVATION'])\n",
    "\n",
    "# Create a mask for rows with ZSCORE_DEPTH > 3 or ZSCORE_WELEV > 3 and drop them, then reset the index.\n",
    "mask = (abs(geo['ZSCORE_WELEV']) >= 3)\n",
    "geo = geo[~mask]\n",
    "geo.reset_index(drop=True, inplace=True)"
   ]
  },
  {
   "cell_type": "code",
   "execution_count": 13,
   "metadata": {},
   "outputs": [
    {
     "data": {
      "text/plain": [
       "COUNTY                      object\n",
       "GLOBAL_ID                   object\n",
       "FIELD_POINT_NAME            object\n",
       "STATUS                      object\n",
       "GW_MEAS_DATE        datetime64[ns]\n",
       "DTFPROD                    float64\n",
       "DTW                        float64\n",
       "RISER_HT                    object\n",
       "TOT_DEPTH                   object\n",
       "GW_MEAS_DESC                object\n",
       "SHEEN                       object\n",
       "DEPTH                      float64\n",
       "WID                         object\n",
       "GID                         object\n",
       "ELEVATION                  float64\n",
       "LONGITUDE                   object\n",
       "LATITUDE                    object\n",
       "DATE                datetime64[ns]\n",
       "PRCP                       float64\n",
       "TMAX                       float64\n",
       "TMIN                       float64\n",
       "WATER_ELEVATION            float64\n",
       "ZSCORE_DEPTH               float64\n",
       "ZSCORE_WELEV               float64\n",
       "dtype: object"
      ]
     },
     "execution_count": 13,
     "metadata": {},
     "output_type": "execute_result"
    }
   ],
   "source": [
    "geo.dtypes"
   ]
  },
  {
   "cell_type": "code",
   "execution_count": 14,
   "metadata": {},
   "outputs": [],
   "source": [
    "cols = ['WID', 'GW_MEAS_DATE', 'LATITUDE', 'LONGITUDE', 'DEPTH', 'ELEVATION', 'WATER_ELEVATION',  'PRCP', 'TMAX', 'TMIN']"
   ]
  },
  {
   "cell_type": "code",
   "execution_count": 15,
   "metadata": {},
   "outputs": [
    {
     "data": {
      "text/html": [
       "<div>\n",
       "<style scoped>\n",
       "    .dataframe tbody tr th:only-of-type {\n",
       "        vertical-align: middle;\n",
       "    }\n",
       "\n",
       "    .dataframe tbody tr th {\n",
       "        vertical-align: top;\n",
       "    }\n",
       "\n",
       "    .dataframe thead th {\n",
       "        text-align: right;\n",
       "    }\n",
       "</style>\n",
       "<table border=\"1\" class=\"dataframe\">\n",
       "  <thead>\n",
       "    <tr style=\"text-align: right;\">\n",
       "      <th></th>\n",
       "      <th>WID</th>\n",
       "      <th>GW_MEAS_DATE</th>\n",
       "      <th>LATITUDE</th>\n",
       "      <th>LONGITUDE</th>\n",
       "      <th>DEPTH</th>\n",
       "      <th>ELEVATION</th>\n",
       "      <th>WATER_ELEVATION</th>\n",
       "      <th>PRCP</th>\n",
       "      <th>TMAX</th>\n",
       "      <th>TMIN</th>\n",
       "    </tr>\n",
       "  </thead>\n",
       "  <tbody>\n",
       "    <tr>\n",
       "      <th>0</th>\n",
       "      <td>SLT4307472-4A</td>\n",
       "      <td>2000-01-27</td>\n",
       "      <td>34.021058</td>\n",
       "      <td>-118.451652</td>\n",
       "      <td>157.45</td>\n",
       "      <td>165.66</td>\n",
       "      <td>8.21</td>\n",
       "      <td>0.0</td>\n",
       "      <td>200.0</td>\n",
       "      <td>83.0</td>\n",
       "    </tr>\n",
       "    <tr>\n",
       "      <th>1</th>\n",
       "      <td>SLT4307472-115A</td>\n",
       "      <td>2000-01-27</td>\n",
       "      <td>34.018806</td>\n",
       "      <td>-118.455532</td>\n",
       "      <td>142.46</td>\n",
       "      <td>151.94</td>\n",
       "      <td>9.48</td>\n",
       "      <td>0.0</td>\n",
       "      <td>200.0</td>\n",
       "      <td>83.0</td>\n",
       "    </tr>\n",
       "    <tr>\n",
       "      <th>2</th>\n",
       "      <td>SL603792561-MW-14</td>\n",
       "      <td>2000-01-27</td>\n",
       "      <td>33.89102</td>\n",
       "      <td>-118.024076</td>\n",
       "      <td>60.85</td>\n",
       "      <td>76.25</td>\n",
       "      <td>15.40</td>\n",
       "      <td>0.0</td>\n",
       "      <td>200.0</td>\n",
       "      <td>83.0</td>\n",
       "    </tr>\n",
       "    <tr>\n",
       "      <th>3</th>\n",
       "      <td>SLT4307472-57A</td>\n",
       "      <td>2000-01-27</td>\n",
       "      <td>34.019668</td>\n",
       "      <td>-118.454001</td>\n",
       "      <td>149.01</td>\n",
       "      <td>158.18</td>\n",
       "      <td>9.17</td>\n",
       "      <td>0.0</td>\n",
       "      <td>200.0</td>\n",
       "      <td>83.0</td>\n",
       "    </tr>\n",
       "    <tr>\n",
       "      <th>4</th>\n",
       "      <td>SL603792561-MW-01</td>\n",
       "      <td>2000-01-27</td>\n",
       "      <td>33.890665</td>\n",
       "      <td>-118.02366</td>\n",
       "      <td>61.15</td>\n",
       "      <td>76.30</td>\n",
       "      <td>15.15</td>\n",
       "      <td>0.0</td>\n",
       "      <td>200.0</td>\n",
       "      <td>83.0</td>\n",
       "    </tr>\n",
       "    <tr>\n",
       "      <th>...</th>\n",
       "      <td>...</td>\n",
       "      <td>...</td>\n",
       "      <td>...</td>\n",
       "      <td>...</td>\n",
       "      <td>...</td>\n",
       "      <td>...</td>\n",
       "      <td>...</td>\n",
       "      <td>...</td>\n",
       "      <td>...</td>\n",
       "      <td>...</td>\n",
       "    </tr>\n",
       "    <tr>\n",
       "      <th>569613</th>\n",
       "      <td>SL204CP1893-MW3</td>\n",
       "      <td>2022-06-30</td>\n",
       "      <td>33.8817104</td>\n",
       "      <td>-118.2191509</td>\n",
       "      <td>52.41</td>\n",
       "      <td>63.96</td>\n",
       "      <td>11.55</td>\n",
       "      <td>0.0</td>\n",
       "      <td>289.0</td>\n",
       "      <td>172.0</td>\n",
       "    </tr>\n",
       "    <tr>\n",
       "      <th>569614</th>\n",
       "      <td>SL204CP1893-MW2</td>\n",
       "      <td>2022-06-30</td>\n",
       "      <td>33.8813501</td>\n",
       "      <td>-118.2193062</td>\n",
       "      <td>51.83</td>\n",
       "      <td>62.89</td>\n",
       "      <td>11.06</td>\n",
       "      <td>0.0</td>\n",
       "      <td>289.0</td>\n",
       "      <td>172.0</td>\n",
       "    </tr>\n",
       "    <tr>\n",
       "      <th>569615</th>\n",
       "      <td>SL204CP1893-MW1</td>\n",
       "      <td>2022-06-30</td>\n",
       "      <td>33.8814103</td>\n",
       "      <td>-118.2191395</td>\n",
       "      <td>52.46</td>\n",
       "      <td>63.14</td>\n",
       "      <td>10.68</td>\n",
       "      <td>0.0</td>\n",
       "      <td>289.0</td>\n",
       "      <td>172.0</td>\n",
       "    </tr>\n",
       "    <tr>\n",
       "      <th>569616</th>\n",
       "      <td>SL204AF1745-GMW-8</td>\n",
       "      <td>2022-06-30</td>\n",
       "      <td>33.8784256</td>\n",
       "      <td>-118.1429772</td>\n",
       "      <td>25.12</td>\n",
       "      <td>62.24</td>\n",
       "      <td>37.12</td>\n",
       "      <td>0.0</td>\n",
       "      <td>289.0</td>\n",
       "      <td>172.0</td>\n",
       "    </tr>\n",
       "    <tr>\n",
       "      <th>569617</th>\n",
       "      <td>SL204AF1745-GMW-9</td>\n",
       "      <td>2022-06-30</td>\n",
       "      <td>33.87842221</td>\n",
       "      <td>-118.1432406</td>\n",
       "      <td>25.13</td>\n",
       "      <td>62.30</td>\n",
       "      <td>37.17</td>\n",
       "      <td>0.0</td>\n",
       "      <td>289.0</td>\n",
       "      <td>172.0</td>\n",
       "    </tr>\n",
       "  </tbody>\n",
       "</table>\n",
       "<p>569618 rows × 10 columns</p>\n",
       "</div>"
      ],
      "text/plain": [
       "                      WID GW_MEAS_DATE     LATITUDE     LONGITUDE   DEPTH  \\\n",
       "0           SLT4307472-4A   2000-01-27    34.021058   -118.451652  157.45   \n",
       "1         SLT4307472-115A   2000-01-27    34.018806   -118.455532  142.46   \n",
       "2       SL603792561-MW-14   2000-01-27     33.89102   -118.024076   60.85   \n",
       "3          SLT4307472-57A   2000-01-27    34.019668   -118.454001  149.01   \n",
       "4       SL603792561-MW-01   2000-01-27    33.890665    -118.02366   61.15   \n",
       "...                   ...          ...          ...           ...     ...   \n",
       "569613    SL204CP1893-MW3   2022-06-30   33.8817104  -118.2191509   52.41   \n",
       "569614    SL204CP1893-MW2   2022-06-30   33.8813501  -118.2193062   51.83   \n",
       "569615    SL204CP1893-MW1   2022-06-30   33.8814103  -118.2191395   52.46   \n",
       "569616  SL204AF1745-GMW-8   2022-06-30   33.8784256  -118.1429772   25.12   \n",
       "569617  SL204AF1745-GMW-9   2022-06-30  33.87842221  -118.1432406   25.13   \n",
       "\n",
       "        ELEVATION  WATER_ELEVATION  PRCP   TMAX   TMIN  \n",
       "0          165.66             8.21   0.0  200.0   83.0  \n",
       "1          151.94             9.48   0.0  200.0   83.0  \n",
       "2           76.25            15.40   0.0  200.0   83.0  \n",
       "3          158.18             9.17   0.0  200.0   83.0  \n",
       "4           76.30            15.15   0.0  200.0   83.0  \n",
       "...           ...              ...   ...    ...    ...  \n",
       "569613      63.96            11.55   0.0  289.0  172.0  \n",
       "569614      62.89            11.06   0.0  289.0  172.0  \n",
       "569615      63.14            10.68   0.0  289.0  172.0  \n",
       "569616      62.24            37.12   0.0  289.0  172.0  \n",
       "569617      62.30            37.17   0.0  289.0  172.0  \n",
       "\n",
       "[569618 rows x 10 columns]"
      ]
     },
     "execution_count": 15,
     "metadata": {},
     "output_type": "execute_result"
    }
   ],
   "source": [
    "geo[cols]"
   ]
  },
  {
   "cell_type": "code",
   "execution_count": 16,
   "metadata": {},
   "outputs": [],
   "source": [
    "geo[cols].to_csv('data/full.csv', index=False)"
   ]
  }
 ],
 "metadata": {
  "kernelspec": {
   "display_name": "Python 3.9.13 ('geoprj')",
   "language": "python",
   "name": "python3"
  },
  "language_info": {
   "codemirror_mode": {
    "name": "ipython",
    "version": 3
   },
   "file_extension": ".py",
   "mimetype": "text/x-python",
   "name": "python",
   "nbconvert_exporter": "python",
   "pygments_lexer": "ipython3",
   "version": "3.9.13"
  },
  "orig_nbformat": 4,
  "vscode": {
   "interpreter": {
    "hash": "23234625f55973f7a58126a35d86facfdbb1213f4cf262be4a4984331c60271a"
   }
  }
 },
 "nbformat": 4,
 "nbformat_minor": 2
}
